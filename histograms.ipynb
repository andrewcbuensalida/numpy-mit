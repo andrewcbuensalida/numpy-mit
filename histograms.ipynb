{
 "cells": [
  {
   "cell_type": "markdown",
   "metadata": {},
   "source": [
    "# Try-It Activity 2.1: Histograms in Python\n",
    "\n",
    "\n",
    "**IMPORTANT INSTRUCTIONS:** This activity is designed for you to experiment with `Python` code that generates normally distributed data, histograms, and continuous distribution functions. Feel free to change any numerical value throughout the code in the activity to visualize different outcomes and results."
   ]
  },
  {
   "cell_type": "markdown",
   "metadata": {},
   "source": [
    "## What is a Histogram?\n",
    "\n",
    "A histogram is a display of statistical information that uses rectangles to show the frequency of data items in successive numerical intervals of equal size. \n",
    "\n",
    "\n",
    "The `Python` plotting library `Matplotlib` provides the *`plt.hist()`* *function* for creating histograms *plots*. \n",
    "\n",
    "Run the code cell below to import the necessary libraries for this activity."
   ]
  },
  {
   "cell_type": "code",
   "execution_count": null,
   "metadata": {},
   "outputs": [],
   "source": [
    "import numpy as np\n",
    "import matplotlib.pyplot as plt"
   ]
  },
  {
   "cell_type": "markdown",
   "metadata": {},
   "source": [
    "Next, we need to define some data so we can generate our first histogram.\n",
    "\n",
    "For this example, let's suppose we have available to us the weight mearsurements of 250 people (in lbs). Suppose further that the mean is around 170 and the data has a standard deviation equal to 10.\n",
    "\n",
    "In the code cell below, fill in the ellipsis to generate the data described above."
   ]
  },
  {
   "cell_type": "code",
   "execution_count": null,
   "metadata": {},
   "outputs": [],
   "source": [
    "x = np.random.normal(..., ..., ...)"
   ]
  },
  {
   "cell_type": "markdown",
   "metadata": {},
   "source": [
    "Note that above, we have used the *function `normal()`* from the `NumPy random()` *module* to generate our sample."
   ]
  },
  {
   "cell_type": "markdown",
   "metadata": {},
   "source": [
    "Next, let's try to produce our first *plot*.\n",
    "\n",
    "As mentioned above, to accomplish this, we can use the *function `plt.hist()`*.\n",
    "\n",
    "In the simplest case, this *function* only takes, as a parameter, the data we want to *plot*.\n",
    "\n",
    "In the code cell below, plot the data generated above."
   ]
  },
  {
   "cell_type": "code",
   "execution_count": null,
   "metadata": {},
   "outputs": [],
   "source": [
    "plt.hist(...)\n",
    "\n",
    "plt.show()"
   ]
  },
  {
   "cell_type": "markdown",
   "metadata": {},
   "source": [
    "As you already know, a histogram can be interpreted as a *plot* that displays the frequency of each outcome. \n",
    "\n",
    "Mathematically, a histogram is a mapping of bins (intervals) to frequencies. Each bin is plotted as a bar whose height corresponds to how many data points are in that bin.\n",
    "\n",
    "Changing the number of bins changes the appearance of your *plot*. This parameter can be regulated by setting the argument *`bins = n`*, where *`n`* is the desired of number of bins, inside the *function `hist()`*.\n",
    "\n",
    "In the code cell below, plot the data *`x`* by setting the number of bins equal to 20."
   ]
  },
  {
   "cell_type": "code",
   "execution_count": null,
   "metadata": {},
   "outputs": [],
   "source": [
    "plt.hist(x, bins = ...)\n",
    "\n",
    "plt.show()"
   ]
  },
  {
   "cell_type": "markdown",
   "metadata": {},
   "source": [
    "Feel free to change the number of bins above to any value you like to see how the distribution changes.\n",
    "\n",
    "Visualizing the frequency of the available values using a histogram can be very useful. However, sometimes we might be interested in visualizing the probability of each outcome.\n",
    "\n",
    "This can be accomplished by setting the argument *`density`*  to true inside the *function `hist()`*.\n",
    "\n",
    "In the code cell below, try to visualize the frequency of each outcome as a probability value.\n"
   ]
  },
  {
   "cell_type": "code",
   "execution_count": null,
   "metadata": {},
   "outputs": [],
   "source": [
    "plt.hist(x, bins = ...)\n",
    "\n",
    "plt.show()"
   ]
  },
  {
   "cell_type": "markdown",
   "metadata": {},
   "source": [
    "## Continuous Probability Distribution and Probability Density Functions\n",
    "\n",
    "A continuous distribution describes the probabilities of the possible values of a continuous random variable. A continuous random variable is a random variable with an infinite set of possible values. \n",
    "\n",
    "A probability density describes the relationship between the continuous random variable observations and their probability.\n",
    "\n",
    "The overall shape of the probability density is referred to as a probability distribution, and the calculation of probabilities for specific outcomes of a random variable is performed by a probability density function, or PDF for short.\n",
    "\n",
    "\n",
    "### Measuring the Height of the Rocky Mountains\n",
    "\n",
    "Let's try to understand how to compute the probability density function of a continuous distribution with an example.\n",
    "\n",
    "Suppose you are measuring the height of the Rocky Mountains. You find that the shortest mountain is 1,734 m tall and that the tallest mountain is 4,356 m tall. Since the mountain range is extensive, you want to find the probability that any random mountain will be shorter than 3,000 m.\n",
    "\n",
    "Interestingly enough, you also find that the distribution of the mountain heights follows a normal distribution with a mean of 3,062 and a standard deviation of 500, as shown below:"
   ]
  },
  {
   "cell_type": "markdown",
   "metadata": {},
   "source": [
    "In the code cell below, fill in the ellipsis to generate a `NumPy` *array* with values between 1,734 and 4,356 and step 1."
   ]
  },
  {
   "cell_type": "code",
   "execution_count": null,
   "metadata": {},
   "outputs": [],
   "source": [
    "# Plot between 1734 and 4356m with step 1.\n",
    "x_axis = np.arange(..., ..., ...)\n",
    "\n"
   ]
  },
  {
   "cell_type": "markdown",
   "metadata": {},
   "source": [
    "In the code cell below, we have given you the code to plot the values above.\n",
    "\n",
    "The *function `norm.pdf()`* from `SciPy` helps us to visualize the PDF of our data."
   ]
  },
  {
   "cell_type": "code",
   "execution_count": null,
   "metadata": {},
   "outputs": [],
   "source": [
    "from scipy.stats import norm\n",
    "\n",
    "#plotting our distribution\n",
    "plt.plot(x_axis, norm.pdf(x_axis,3026,500))\n",
    "plt.xlabel(\"Height\")\n",
    "plt.ylabel(\"Probability\")\n",
    "plt.show()"
   ]
  },
  {
   "cell_type": "markdown",
   "metadata": {},
   "source": [
    "Note that above, we have assumed that our measurements have a mean equal to 3,026 and a standard deviation equal to 500.\n",
    "\n",
    "In the code below, we define the variable *`H`* is a normal random variable with mean and standard deviation equal to the values above."
   ]
  },
  {
   "cell_type": "code",
   "execution_count": null,
   "metadata": {},
   "outputs": [],
   "source": [
    "H = norm(3026,500)"
   ]
  },
  {
   "cell_type": "markdown",
   "metadata": {},
   "source": [
    "#### Cumulative Distribution Function\n",
    "\n",
    "The cumulative distribution function (CDF) of a random variable  is the probability that the random variable\n",
    "will take a value less than or equal to $x$.\n",
    "\n",
    "In `Python`, if we want to compute the probability that a mountain is shorter than 3,000m, we can use the function `cdf()` on our random variable.\n",
    "\n",
    "Observe the code in the cell below."
   ]
  },
  {
   "cell_type": "code",
   "execution_count": null,
   "metadata": {},
   "outputs": [],
   "source": [
    "#computing the the probability density for P(<3000)\n",
    "print(H.cdf(3000))"
   ]
  },
  {
   "cell_type": "markdown",
   "metadata": {},
   "source": [
    "It appears that the probability that a mountain is less than 3,000 m is around 0.47. In other words, 47% of mountains would be shorter that 3,000 m tall.\n",
    "\n",
    "Change the code cell above to compute the probability that a mountain is less than 3,298 m.\n",
    "\n",
    "To challenge yourself further, consider another data calculation. How would you change the code above to compute the probability that a mountain is taller than 3,000 m?"
   ]
  },
  {
   "cell_type": "markdown",
   "metadata": {},
   "source": [
    "### Distribution of Women's Weight\n",
    "\n",
    "In our final example, suppose we have the following data available that represents the weights of women."
   ]
  },
  {
   "cell_type": "code",
   "execution_count": null,
   "metadata": {},
   "outputs": [],
   "source": [
    "w = np.random.normal(150, 2, 10000)"
   ]
  },
  {
   "cell_type": "markdown",
   "metadata": {},
   "source": [
    "In the code cell below, fill in the ellipsis to plot the data *`w`* as a histogram."
   ]
  },
  {
   "cell_type": "code",
   "execution_count": null,
   "metadata": {},
   "outputs": [],
   "source": [
    "plt.hist(...)\n",
    "\n",
    "plt.show()"
   ]
  },
  {
   "cell_type": "markdown",
   "metadata": {},
   "source": [
    "The shape of the distribution above is really similar to the shape of a very common continuous distribution, the normal distribution.\n",
    "\n",
    "In fact, we can fit a normal distribution on top of the one we have just obtained.\n",
    "\n",
    "In the code cell below, fill in the ellipsis to generate a normal random variable *`W`* with a mean of 150 and a standard deviation of 2."
   ]
  },
  {
   "cell_type": "code",
   "execution_count": null,
   "metadata": {},
   "outputs": [],
   "source": [
    "#generating the normal PDF\n",
    "W = norm(..., ...)\n"
   ]
  },
  {
   "cell_type": "markdown",
   "metadata": {},
   "source": [
    "Next, we choose the range on which we’ll plot the PDF and the probabilities for that range."
   ]
  },
  {
   "cell_type": "code",
   "execution_count": null,
   "metadata": {},
   "outputs": [],
   "source": [
    "#lower bound\n",
    "min_weight = np.min(w)\n",
    "#upper bound\n",
    "max_weight = np.max(w)\n",
    "#generate a sequence of equally spaces values\n",
    "values = list(range(int(min_weight), int(max_weight)))\n",
    "#generate probabilities for each value (these will follow the shape of a normal distribution!)\n",
    "probabilities = [W.pdf(v) for v in values]"
   ]
  },
  {
   "cell_type": "markdown",
   "metadata": {},
   "source": [
    "Finally, we plot the sample distribution and the PDF we have generated."
   ]
  },
  {
   "cell_type": "code",
   "execution_count": null,
   "metadata": {},
   "outputs": [],
   "source": [
    "#plotting weight distribution\n",
    "plt.hist(w, bins=30, density = True) \n",
    "#plotting normal distribution (orange line)\n",
    "plt.plot(values, probabilities)"
   ]
  }
 ],
 "metadata": {
  "kernelspec": {
   "display_name": "Python 3",
   "language": "python",
   "name": "python3"
  },
  "language_info": {
   "codemirror_mode": {
    "name": "ipython",
    "version": 3
   },
   "file_extension": ".py",
   "mimetype": "text/x-python",
   "name": "python",
   "nbconvert_exporter": "python",
   "pygments_lexer": "ipython3",
   "version": "3.6.9"
  }
 },
 "nbformat": 4,
 "nbformat_minor": 4
}
