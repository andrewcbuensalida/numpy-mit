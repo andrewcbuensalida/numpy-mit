{
 "cells": [
  {
   "cell_type": "markdown",
   "metadata": {
    "deletable": false,
    "editable": false,
    "nbgrader": {
     "checksum": "8f4c7a3c6d63c258b4a99c2406b85e4a",
     "grade": false,
     "grade_id": "cell-c97ef004ab3f5cef",
     "locked": true,
     "schema_version": 1,
     "solution": false
    }
   },
   "source": [
    "# Codio Coding Activity 3.1: Series and Dataframes\n",
    "\n",
    "### Learning Outcome Addressed\n",
    "\n",
    "- 2. Implement pandas *series* and *dataframes*.\n",
    "\n",
    "\n",
    "## Index:\n",
    "\n",
    "- [Question 1](#Question-1)\n",
    "- [Question 2](#Question-2)\n",
    "- [Question 3](#Question-3)\n",
    "- [Question 4](#Question-4)\n",
    "- [Question 5](#Question-5)\n",
    "- [Question 6](#Question-6)\n",
    "- [Question 7](#Question-7)\n",
    "- [Question 8](#Question-8)"
   ]
  },
  {
   "cell_type": "markdown",
   "metadata": {
    "deletable": false,
    "editable": false,
    "nbgrader": {
     "checksum": "94b4cf426039c780f3b468c8df3fb091",
     "grade": false,
     "grade_id": "cell-257b3c4877fbed5b",
     "locked": true,
     "schema_version": 1,
     "solution": false
    }
   },
   "source": [
    "### Importing Pandas\n",
    "\n",
    "Before you begin with this activity, you need to import the *pandas* library.\n",
    "\n",
    "Run the code cell below."
   ]
  },
  {
   "cell_type": "code",
   "execution_count": 1,
   "metadata": {},
   "outputs": [],
   "source": [
    "import pandas as pd"
   ]
  },
  {
   "cell_type": "markdown",
   "metadata": {
    "deletable": false,
    "editable": false,
    "nbgrader": {
     "checksum": "2818dc0bf7a86da440c2ad322b5d17af",
     "grade": false,
     "grade_id": "cell-81873b68a8c74bb6",
     "locked": true,
     "schema_version": 1,
     "solution": false
    }
   },
   "source": [
    "## Pandas *Series*\n",
    "\n",
    "\n",
    "A *pandas series* is a one-dimensional *indexed array* capable of storing any data type as long as all the elements stored in it are of the same type.\n",
    "\n",
    "### Question 1\n",
    "*2 points*\n",
    "\n",
    "The *list,* *`list1,`* has been defined for you below. \n",
    "\n",
    "Create a *pandas series*, *`ans1a,`* with the same elements stored in *`list1.`*\n",
    "\n",
    "Assign the length of *`ans1a`* to *`ans1b`*.\n",
    "\n",
    "\n",
    "What is the type of *`ans1a`*? Assign your result to *`ans1c`*."
   ]
  },
  {
   "cell_type": "code",
   "execution_count": 2,
   "metadata": {
    "deletable": false,
    "nbgrader": {
     "checksum": "cb01c2af81228ae8471701e7ac4bdf85",
     "grade": false,
     "grade_id": "cell-63bc983eccda06e3",
     "locked": false,
     "schema_version": 1,
     "solution": true
    }
   },
   "outputs": [
    {
     "data": {
      "text/plain": [
       "0    2\n",
       "1    4\n",
       "2    6\n",
       "3    8\n",
       "dtype: int64"
      ]
     },
     "execution_count": 2,
     "metadata": {},
     "output_type": "execute_result"
    }
   ],
   "source": [
    "### GRADED\n",
    "list1 = [2,4,6,8]\n",
    "\n",
    "\n",
    "### YOUR SOLUTION HERE\n",
    "ans1a = pd.Series(list1)\n",
    "ans1b = ans1a\n",
    "ans1c = None\n",
    "\n",
    "ans1a"
   ]
  },
  {
   "cell_type": "code",
   "execution_count": null,
   "metadata": {
    "deletable": false,
    "editable": false,
    "nbgrader": {
     "checksum": "e4d2c8872fdbbcf28f768eb18811a757",
     "grade": true,
     "grade_id": "cell-3b568153564413d1",
     "locked": true,
     "points": 2,
     "schema_version": 1,
     "solution": false
    }
   },
   "outputs": [],
   "source": []
  },
  {
   "cell_type": "markdown",
   "metadata": {
    "deletable": false,
    "editable": false,
    "nbgrader": {
     "checksum": "2524d2a6314a5d85f999770890c3390c",
     "grade": false,
     "grade_id": "cell-488e846b3e5eeb39",
     "locked": true,
     "schema_version": 1,
     "solution": false
    }
   },
   "source": [
    "### Question 2\n",
    "*2 points*\n",
    "\n",
    "Consider the *series `ans1a`* defined in Question 1.\n",
    "\n",
    "Re-create the *series* in the exact same way, but now include an index with elements `a`, `b`, `c`, and `d`. Assign the new *series* to *`ans2a`*."
   ]
  },
  {
   "cell_type": "code",
   "execution_count": null,
   "metadata": {
    "deletable": false,
    "nbgrader": {
     "checksum": "0a4eac1df77a314914a3ee15ba11ec26",
     "grade": false,
     "grade_id": "cell-dccd0e8b0b43f103",
     "locked": false,
     "schema_version": 1,
     "solution": true
    }
   },
   "outputs": [],
   "source": [
    "### GRADED\n",
    "\n",
    "### YOUR SOLUTION HERE\n",
    "ans2a = None\n",
    "\n",
    "# YOUR CODE HERE\n",
    "raise NotImplementedError()"
   ]
  },
  {
   "cell_type": "code",
   "execution_count": null,
   "metadata": {
    "deletable": false,
    "editable": false,
    "nbgrader": {
     "checksum": "0fbee9d96b99bc72cbd8d30c26ff9197",
     "grade": true,
     "grade_id": "cell-7d69efb3148f0fc9",
     "locked": true,
     "points": 2,
     "schema_version": 1,
     "solution": false
    }
   },
   "outputs": [],
   "source": []
  },
  {
   "cell_type": "markdown",
   "metadata": {
    "deletable": false,
    "editable": false,
    "nbgrader": {
     "checksum": "a67bbb4e9f60918ff940a2c4bd76d147",
     "grade": false,
     "grade_id": "cell-43e27df97bd2644c",
     "locked": true,
     "schema_version": 1,
     "solution": false
    }
   },
   "source": [
    "A *pandas series* can also be defined from a *dictionary* by using the *pandas function `Series().`*"
   ]
  },
  {
   "cell_type": "markdown",
   "metadata": {
    "deletable": false,
    "editable": false,
    "nbgrader": {
     "checksum": "34804492fddf00da70b0ccd27cac857b",
     "grade": false,
     "grade_id": "cell-a6bafd41fe87bcfa",
     "locked": true,
     "schema_version": 1,
     "solution": false
    }
   },
   "source": [
    "### Question 3\n",
    "*2 points*\n",
    "\n",
    "The *dictionary* *`students`* has been defined for you below. \n",
    "\n",
    "Create a *pandas series*, *`ans3a,`* from *`students.`*\n",
    "\n",
    "Assign the length of *`ans3a`* to *`ans3b`*."
   ]
  },
  {
   "cell_type": "code",
   "execution_count": null,
   "metadata": {
    "deletable": false,
    "nbgrader": {
     "checksum": "6aa871f29fd94d1b8143675ec004cfeb",
     "grade": false,
     "grade_id": "cell-4076ec2d5269d150",
     "locked": false,
     "schema_version": 1,
     "solution": true
    }
   },
   "outputs": [],
   "source": [
    "### GRADED\n",
    "students = {'Id1' : 'Mary', 'Id2' : 'Jessica', 'Id3' : 'Sophie'}\n",
    "\n",
    "### YOUR SOLUTION HERE\n",
    "ans3a = None\n",
    "ans3b = None\n",
    "\n",
    "# YOUR CODE HERE\n",
    "raise NotImplementedError()"
   ]
  },
  {
   "cell_type": "code",
   "execution_count": null,
   "metadata": {
    "deletable": false,
    "editable": false,
    "nbgrader": {
     "checksum": "31a15756db6653f2ba1a127be33c20d1",
     "grade": true,
     "grade_id": "cell-17ca81efd51649fa",
     "locked": true,
     "points": 2,
     "schema_version": 1,
     "solution": false
    }
   },
   "outputs": [],
   "source": []
  },
  {
   "cell_type": "markdown",
   "metadata": {
    "deletable": false,
    "editable": false,
    "nbgrader": {
     "checksum": "d23376962d45ba060dcbb3fe1c59bd9a",
     "grade": false,
     "grade_id": "cell-f6c7e5150e810fbd",
     "locked": true,
     "schema_version": 1,
     "solution": false
    }
   },
   "source": [
    "### Question 4\n",
    "*2 points*\n",
    "\n",
    "Create a copy of *`ans3a`*, assigned to *`ans4a`*, but change the second value to *`Dayna`*."
   ]
  },
  {
   "cell_type": "code",
   "execution_count": null,
   "metadata": {
    "deletable": false,
    "nbgrader": {
     "checksum": "eb556d4168517fe87509e9cc7af7ed22",
     "grade": false,
     "grade_id": "cell-cbd1205f6a2a0b92",
     "locked": false,
     "schema_version": 1,
     "solution": true
    }
   },
   "outputs": [],
   "source": [
    "### GRADED\n",
    "\n",
    "### YOUR SOLUTION HERE\n",
    "ans4a = None\n",
    "\n",
    "# YOUR CODE HERE\n",
    "raise NotImplementedError()"
   ]
  },
  {
   "cell_type": "code",
   "execution_count": null,
   "metadata": {
    "deletable": false,
    "editable": false,
    "nbgrader": {
     "checksum": "5d41f34dd52d3921f1b832d8376b71bd",
     "grade": true,
     "grade_id": "cell-7c85e8df598287b0",
     "locked": true,
     "points": 2,
     "schema_version": 1,
     "solution": false
    }
   },
   "outputs": [],
   "source": []
  },
  {
   "cell_type": "markdown",
   "metadata": {
    "deletable": false,
    "editable": false,
    "nbgrader": {
     "checksum": "da7f3a61571abe7602cf961befdb1039",
     "grade": false,
     "grade_id": "cell-4e656f66a70378f6",
     "locked": true,
     "schema_version": 1,
     "solution": false
    }
   },
   "source": [
    "### Question 5\n",
    "*3 points*\n",
    "\n",
    "Define a datetime *index, `ans5a,`* with ten elements spaced daily starting from July 1, 2021 and 12:00pm in the Europe/Berlin timezone."
   ]
  },
  {
   "cell_type": "code",
   "execution_count": null,
   "metadata": {
    "deletable": false,
    "nbgrader": {
     "checksum": "ae821ba984882934ad85462e15dc36d8",
     "grade": false,
     "grade_id": "cell-f11f68ecc69a1db7",
     "locked": false,
     "schema_version": 1,
     "solution": true
    }
   },
   "outputs": [],
   "source": [
    "### GRADED\n",
    "\n",
    "### YOUR SOLUTION HERE\n",
    "ans5a = None\n",
    "\n",
    "# YOUR CODE HERE\n",
    "raise NotImplementedError()"
   ]
  },
  {
   "cell_type": "code",
   "execution_count": null,
   "metadata": {
    "deletable": false,
    "editable": false,
    "nbgrader": {
     "checksum": "bd66517d2ea362329616c66a22dc9a00",
     "grade": true,
     "grade_id": "cell-55a75fbe47a6e4e4",
     "locked": true,
     "points": 3,
     "schema_version": 1,
     "solution": false
    }
   },
   "outputs": [],
   "source": []
  },
  {
   "cell_type": "markdown",
   "metadata": {
    "deletable": false,
    "editable": false,
    "nbgrader": {
     "checksum": "c5eeeebdd0c4570c27f3322277a35567",
     "grade": false,
     "grade_id": "cell-33cfcaef42b6ee44",
     "locked": true,
     "schema_version": 1,
     "solution": false
    }
   },
   "source": [
    "### Question 6\n",
    "*3 points*\n",
    "\n",
    "Define a *NumPy array, `ans6a`*, with shape *`(4,4)`* and random *integer* elements between *`0`* and  *`16.`*\n",
    "\n",
    "Define a  datetime *index, `ans6b,`* with 4 elements spaced daily starting from April 30, 2021.\n",
    "\n",
    "Create a *dataframe, `ans6c,`* that has the elements of *`ans6a`* as entries and the elements in *`ans6b`* as *index*.\n",
    "\n",
    "**Note:** The necessary *libraries* for this question have been imported for you in the code cell below."
   ]
  },
  {
   "cell_type": "code",
   "execution_count": null,
   "metadata": {
    "deletable": false,
    "nbgrader": {
     "checksum": "36d8c116f3cd53ec71cd0d5d5b4aa247",
     "grade": false,
     "grade_id": "cell-3683bf6672653a98",
     "locked": false,
     "schema_version": 1,
     "solution": true
    }
   },
   "outputs": [],
   "source": [
    "### GRADED\n",
    "import numpy as np\n",
    "np.random.seed(123)\n",
    "\n",
    "\n",
    "### YOUR SOLUTION HERE\n",
    "ans6a = None\n",
    "ans6b = None\n",
    "ans6c = None\n",
    "\n",
    "# YOUR CODE HERE\n",
    "raise NotImplementedError()"
   ]
  },
  {
   "cell_type": "code",
   "execution_count": null,
   "metadata": {
    "deletable": false,
    "editable": false,
    "nbgrader": {
     "checksum": "9ee57d8cd612e2742786f5e145ad8397",
     "grade": true,
     "grade_id": "cell-817144fe7a5eb09a",
     "locked": true,
     "points": 3,
     "schema_version": 1,
     "solution": false
    }
   },
   "outputs": [],
   "source": []
  },
  {
   "cell_type": "markdown",
   "metadata": {
    "deletable": false,
    "editable": false,
    "nbgrader": {
     "checksum": "c514961ea73764ec32e90baa43715f0a",
     "grade": false,
     "grade_id": "cell-09534393229a2034",
     "locked": true,
     "schema_version": 1,
     "solution": false
    }
   },
   "source": [
    "### Question 7\n",
    "*3 points*\n",
    "\n",
    "Consider the *dataframe, `ans6c,`* that you have defined in the previous question.\n",
    "\n",
    "Recreate the *dataframe* in the exact same way, but now including columns to be equal to `Adults`, `Seniors`, `Teenagers`, and `Children`. Assign the new *dataframe* to *`ans7a`*."
   ]
  },
  {
   "cell_type": "code",
   "execution_count": null,
   "metadata": {
    "deletable": false,
    "nbgrader": {
     "checksum": "22713d1e75c80d84b3618b6ac3648dfd",
     "grade": false,
     "grade_id": "cell-49b40842d9d30532",
     "locked": false,
     "schema_version": 1,
     "solution": true
    }
   },
   "outputs": [],
   "source": [
    "### GRADED\n",
    "import numpy as np\n",
    "np.random.seed(123)\n",
    "\n",
    "\n",
    "### YOUR SOLUTION HERE\n",
    "ans7a = None\n",
    "\n",
    "# YOUR CODE HERE\n",
    "raise NotImplementedError()"
   ]
  },
  {
   "cell_type": "code",
   "execution_count": null,
   "metadata": {
    "deletable": false,
    "editable": false,
    "nbgrader": {
     "checksum": "9b2c6b5c918efd3d13bcf109f20a4ccd",
     "grade": true,
     "grade_id": "cell-0105c1ff3a370a50",
     "locked": true,
     "points": 3,
     "schema_version": 1,
     "solution": false
    }
   },
   "outputs": [],
   "source": []
  },
  {
   "cell_type": "markdown",
   "metadata": {
    "deletable": false,
    "editable": false,
    "nbgrader": {
     "checksum": "eba4d89d499728e21d59f6fb4daf3d64",
     "grade": false,
     "grade_id": "cell-064a830908ea8778",
     "locked": true,
     "schema_version": 1,
     "solution": false
    }
   },
   "source": [
    "### Question 8\n",
    "*3 points*\n",
    "\n",
    "Read the file `women.csv` in the `data` folder. Assign the data to the *dataframe `ans8a`*.\n",
    "\n",
    "Drop the column `position` and change the name of the column `name` to `first_name`."
   ]
  },
  {
   "cell_type": "code",
   "execution_count": null,
   "metadata": {
    "deletable": false,
    "nbgrader": {
     "checksum": "b860268fe8ff63f345e764a3a8ddecf1",
     "grade": false,
     "grade_id": "cell-045aa70448d2be27",
     "locked": false,
     "schema_version": 1,
     "solution": true
    }
   },
   "outputs": [],
   "source": [
    "### GRADED\n",
    "\n",
    "\n",
    "### YOUR SOLUTION HERE\n",
    "\n",
    "# YOUR CODE HERE\n",
    "raise NotImplementedError()"
   ]
  },
  {
   "cell_type": "code",
   "execution_count": null,
   "metadata": {
    "deletable": false,
    "editable": false,
    "nbgrader": {
     "checksum": "a341f80896202364202dc76682bda335",
     "grade": true,
     "grade_id": "cell-22412cd8933f5297",
     "locked": true,
     "points": 3,
     "schema_version": 1,
     "solution": false
    }
   },
   "outputs": [],
   "source": []
  }
 ],
 "metadata": {
  "kernelspec": {
   "display_name": "Python 3",
   "language": "python",
   "name": "python3"
  },
  "language_info": {
   "codemirror_mode": {
    "name": "ipython",
    "version": 3
   },
   "file_extension": ".py",
   "mimetype": "text/x-python",
   "name": "python",
   "nbconvert_exporter": "python",
   "pygments_lexer": "ipython3",
   "version": "3.6.9"
  }
 },
 "nbformat": 4,
 "nbformat_minor": 4
}
