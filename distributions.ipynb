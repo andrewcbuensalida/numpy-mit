{
 "cells": [
  {
   "cell_type": "markdown",
   "metadata": {
    "deletable": false,
    "editable": false,
    "nbgrader": {
     "checksum": "7267dde086a25e702e788d0b8b546882",
     "grade": false,
     "grade_id": "cell-5a50b3bd255350e9",
     "locked": true,
     "schema_version": 1,
     "solution": false
    }
   },
   "source": [
    "# Codio Coding Activity 2.3: Discrete and Continuous Distributions in Python\n",
    "\n",
    "### Learning Outcome Addressed\n",
    "\n",
    "- 8. Implement discrete and continuous distributions\n",
    "\n",
    "\n",
    "## Index:\n",
    "\n",
    "- [Question 1](#Question-1)\n",
    "- [Question 2](#Question-2)\n",
    "- [Question 3](#Question-3)\n",
    "- [Question 4](#Question-4)\n",
    "- [Question 5](#Question-5)\n",
    "- [Question 6](#Question-6)\n",
    "- [Question 7](#Question-7)"
   ]
  },
  {
   "cell_type": "markdown",
   "metadata": {
    "deletable": false,
    "editable": false,
    "nbgrader": {
     "checksum": "ea5d402dd5ea267b021a456bef1b8a75",
     "grade": false,
     "grade_id": "cell-7803dd6463f0781d",
     "locked": true,
     "schema_version": 1,
     "solution": false
    }
   },
   "source": [
    "## Discrete Distributions in Python\n",
    "\n",
    "Distributions in *Python* can be *plotted* by using the *library* [SciPy](https://www.scipy.org/scipylib/index.html), which include a module for statistics.\n",
    "\n",
    "This activity is designed to give you a gentle introduction to the *library* syntax.\n",
    "\n",
    "### Discrete Distributions\n",
    "\n",
    "As you have learned, if a random variable can take on only a finite number of distinct values, then the corresponding distribution must be discrete.\n",
    "\n",
    "For example, experiments like tossing a coin or rolling a die only have a finite number of outcomes. Therefore, the distribution that represents these outcomes will be discrete.\n",
    "\n",
    "\n"
   ]
  },
  {
   "cell_type": "markdown",
   "metadata": {
    "deletable": false,
    "editable": false,
    "nbgrader": {
     "checksum": "89b2b950f92a27908ed77a563f5f6ff4",
     "grade": false,
     "grade_id": "cell-d33ced98e1b6476d",
     "locked": true,
     "schema_version": 1,
     "solution": false
    }
   },
   "source": [
    "### Tossing a Coin\n",
    "\n",
    "As you have learned, the two possible outcomes of tossing a coin can be mapped to zeros (for tails) and ones (for heads).\n",
    "\n",
    "The distribution that represents this experiment is the Bernoulli distribution.\n",
    "\n",
    "In the code cell below, we import the *function* to generate the values for this distribution."
   ]
  },
  {
   "cell_type": "code",
   "execution_count": 1,
   "metadata": {
    "deletable": false,
    "editable": false,
    "nbgrader": {
     "checksum": "ef47714a278a9307ae0b258cb2cb9b90",
     "grade": false,
     "grade_id": "cell-cff0cfaf7579dad1",
     "locked": true,
     "schema_version": 1,
     "solution": false
    }
   },
   "outputs": [],
   "source": [
    "from scipy.stats import bernoulli \n",
    "import numpy as np"
   ]
  },
  {
   "cell_type": "markdown",
   "metadata": {
    "deletable": false,
    "editable": false,
    "nbgrader": {
     "checksum": "64b314a2c3ef9c59c3c295ba40e09efb",
     "grade": false,
     "grade_id": "cell-907f79ffc125cf11",
     "locked": true,
     "schema_version": 1,
     "solution": false
    }
   },
   "source": [
    "### Question 1\n",
    "*3 points*\n",
    "\n",
    "In the code cell below, define a *variable, `ans1a`*, that contains the probability value of getting a head or tail when tossing a coin.\n",
    "\n",
    "Next, generate the random variable values for this experiment by using the *`bernoulli()` function* imported above. Pass the probability value defined above to this *function*. Assign this result to *`ans1b`*.\n",
    "\n",
    "Finally, use the code *`ans2b.rvs()`* with argument equal to *`100`* to generate the samples. Assign this result to *`ans1c`*.\n",
    "\n",
    "Feel free to print *`ans1c`* to your screen to visualize the result."
   ]
  },
  {
   "cell_type": "code",
   "execution_count": 24,
   "metadata": {
    "deletable": false,
    "nbgrader": {
     "checksum": "21bc37bd503170921a8ed5a83e175326",
     "grade": false,
     "grade_id": "cell-33b08152084b6ab8",
     "locked": false,
     "schema_version": 1,
     "solution": true
    }
   },
   "outputs": [
    {
     "data": {
      "text/plain": [
       "array([1, 1, 1, 1, 0, 1, 0, 1, 1, 0, 1, 1, 1, 1, 0, 0, 0, 1, 1, 1, 1, 1,\n",
       "       0, 1, 0, 1, 0, 1, 1, 0, 0, 1, 0, 1, 0, 1, 1, 1, 1, 1, 0, 0, 1, 0,\n",
       "       1, 1, 0, 0, 0, 0, 1, 0, 1, 0, 0, 0, 1, 0, 0, 0, 0, 0, 1, 0, 0, 0,\n",
       "       1, 0, 1, 0, 1, 0, 1, 1, 1, 0, 0, 0, 0, 0, 0, 0, 0, 1, 1, 0, 1, 0,\n",
       "       1, 1, 0, 1, 0, 1, 0, 0, 1, 0, 1, 0], dtype=int64)"
      ]
     },
     "execution_count": 24,
     "metadata": {},
     "output_type": "execute_result"
    }
   ],
   "source": [
    "### GRADED\n",
    "\n",
    "#random seed for reproducibility\n",
    "np.random.seed(0)\n",
    "### YOUR SOLUTION HERE\n",
    "ans1a = .5\n",
    "ans1b = bernoulli(.5)\n",
    "ans1c = ans1b.rvs(100)\n",
    "\n",
    "ans1c"
   ]
  },
  {
   "cell_type": "code",
   "execution_count": null,
   "metadata": {
    "deletable": false,
    "editable": false,
    "nbgrader": {
     "checksum": "ce798eaaf79935ce411460c14a60fa79",
     "grade": true,
     "grade_id": "cell-749b3e51a50dadcd",
     "locked": true,
     "points": 3,
     "schema_version": 1,
     "solution": false
    }
   },
   "outputs": [],
   "source": []
  },
  {
   "cell_type": "markdown",
   "metadata": {
    "deletable": false,
    "editable": false,
    "nbgrader": {
     "checksum": "cb7ec47b2e7660c7e3ac58c9e4cb5a98",
     "grade": false,
     "grade_id": "cell-0519b74b0d571bbf",
     "locked": true,
     "schema_version": 1,
     "solution": false
    }
   },
   "source": [
    "Below is a plotted example of the histogram graph of this distribution.\n",
    "\n",
    "You will learn how to do this on your own in the next Codio activity.\n",
    "\n"
   ]
  },
  {
   "cell_type": "code",
   "execution_count": 7,
   "metadata": {
    "deletable": false,
    "editable": false,
    "nbgrader": {
     "checksum": "d482ed16d93ce602909e97b5791df29b",
     "grade": false,
     "grade_id": "cell-bc4b3784bd214bd6",
     "locked": true,
     "schema_version": 1,
     "solution": false
    }
   },
   "outputs": [
    {
     "data": {
      "image/png": "[encoded data removed]",
      "text/plain": [
       "<Figure size 640x480 with 1 Axes>"
      ]
     },
     "metadata": {},
     "output_type": "display_data"
    }
   ],
   "source": [
    "from matplotlib import pyplot as plt\n",
    "\n",
    "# Plot the distribution of `xs`\n",
    "plt.hist(ans1c)\n",
    "plt.show()"
   ]
  },
  {
   "cell_type": "markdown",
   "metadata": {
    "deletable": false,
    "editable": false,
    "nbgrader": {
     "checksum": "c8942f89326f495e1873e91b3fba5e57",
     "grade": false,
     "grade_id": "cell-0eb2ec59ae9c3588",
     "locked": true,
     "schema_version": 1,
     "solution": false
    }
   },
   "source": [
    "### Rolling a Die\n",
    "\n",
    "When rolling a fair die, the possible outcomes are all the integers from one to six.\n",
    "\n",
    "The distribution that represents this experiment is the uniform distribution.\n",
    "\n",
    "In the code cell below, we create a random variable to store the result of the roll.\n"
   ]
  },
  {
   "cell_type": "code",
   "execution_count": 26,
   "metadata": {
    "deletable": false,
    "editable": false,
    "nbgrader": {
     "checksum": "f106e46ee2bfdef97504a39ebf78c403",
     "grade": false,
     "grade_id": "cell-266f42e7961df030",
     "locked": true,
     "schema_version": 1,
     "solution": false
    }
   },
   "outputs": [
    {
     "data": {
      "text/plain": [
       "3"
      ]
     },
     "execution_count": 26,
     "metadata": {},
     "output_type": "execute_result"
    }
   ],
   "source": [
    "from random import randint\n",
    "one_die_roll = randint(1,6)\n",
    "one_die_roll"
   ]
  },
  {
   "cell_type": "markdown",
   "metadata": {
    "deletable": false,
    "editable": false,
    "nbgrader": {
     "checksum": "6bea03e654240e5ca8f06a66ff99c544",
     "grade": false,
     "grade_id": "cell-ea5fe150f13c001a",
     "locked": true,
     "schema_version": 1,
     "solution": false
    }
   },
   "source": [
    "To visualize the distribution, we need to roll more than one die.\n",
    "\n",
    "### Question 2\n",
    "*3 points*\n",
    "\n",
    "In the code cell below, create a *list* containing the results from ten rolls. Assign it to *`ans2a`*. You can use a *list comprehension* for this.\n",
    "\n",
    "Feel free to print *`ans2a`* to your screen to visualize the result."
   ]
  },
  {
   "cell_type": "code",
   "execution_count": 29,
   "metadata": {
    "deletable": false,
    "nbgrader": {
     "checksum": "9c1324686e4b20eb969caef90d09c771",
     "grade": false,
     "grade_id": "cell-9a62d504d94cc002",
     "locked": false,
     "schema_version": 1,
     "solution": true
    }
   },
   "outputs": [
    {
     "data": {
      "text/plain": [
       "[4, 4, 1, 3, 5, 4, 4, 3, 4, 3]"
      ]
     },
     "execution_count": 29,
     "metadata": {},
     "output_type": "execute_result"
    }
   ],
   "source": [
    "### GRADED\n",
    "\n",
    "#random seed for reproducibility\n",
    "import random\n",
    "random.seed(0)\n",
    "### YOUR SOLUTION HERE\n",
    "ans2a = [ randint(1,6) for _ in range(10)]\n",
    "ans2a"
   ]
  },
  {
   "cell_type": "code",
   "execution_count": null,
   "metadata": {
    "deletable": false,
    "editable": false,
    "nbgrader": {
     "checksum": "45bb26b754ef3bc756642181c7b4d97f",
     "grade": true,
     "grade_id": "cell-ba3b8ba1fb204733",
     "locked": true,
     "points": 3,
     "schema_version": 1,
     "solution": false
    }
   },
   "outputs": [],
   "source": []
  },
  {
   "cell_type": "markdown",
   "metadata": {
    "deletable": false,
    "editable": false,
    "nbgrader": {
     "checksum": "ce18cfb710356bafc3829f5b2a74dcd1",
     "grade": false,
     "grade_id": "cell-63df410bf84c9611",
     "locked": true,
     "schema_version": 1,
     "solution": false
    }
   },
   "source": [
    "Below, we have plotted for you the histogram graph of the distribution for this experiment.\n",
    "\n",
    "You will learn how to do this on your own in the next Codio activity."
   ]
  },
  {
   "cell_type": "code",
   "execution_count": 32,
   "metadata": {
    "deletable": false,
    "editable": false,
    "nbgrader": {
     "checksum": "2a47931dd03ee09fe96f0c2e3b755ef0",
     "grade": false,
     "grade_id": "cell-f7ac9bd1485f8725",
     "locked": true,
     "schema_version": 1,
     "solution": false
    }
   },
   "outputs": [
    {
     "data": {
      "image/png": "[encoded data removed]",
      "text/plain": [
       "<Figure size 640x480 with 1 Axes>"
      ]
     },
     "metadata": {},
     "output_type": "display_data"
    }
   ],
   "source": [
    "plt.hist(ans2a,bins=20)\n",
    "plt.show()"
   ]
  },
  {
   "cell_type": "markdown",
   "metadata": {
    "deletable": false,
    "editable": false,
    "nbgrader": {
     "checksum": "0ab3b338fba167ce56318139239d4f7a",
     "grade": false,
     "grade_id": "cell-9ec388d15ac5eafa",
     "locked": true,
     "schema_version": 1,
     "solution": false
    }
   },
   "source": [
    "As you can see, the distribution does not appear uniform. This is because we haven't rolled the die enough times."
   ]
  },
  {
   "cell_type": "markdown",
   "metadata": {
    "deletable": false,
    "editable": false,
    "nbgrader": {
     "checksum": "88dbbba495b3cf7ade08797390350dae",
     "grade": false,
     "grade_id": "cell-1ada7cc56c65cdd7",
     "locked": true,
     "schema_version": 1,
     "solution": false
    }
   },
   "source": [
    "### Question 3\n",
    "*2 points*\n",
    "\n",
    "In the code cell below, create a *list* containing the results from 10,000 rolls. Assign it to *`ans3a`*. You can use a *list comprehension* for this.\n",
    "\n",
    "Feel free to print *`ans3a`* to your screen to visualize the result."
   ]
  },
  {
   "cell_type": "code",
   "execution_count": 40,
   "metadata": {
    "deletable": false,
    "nbgrader": {
     "checksum": "9856a1ef6fbd61045f51ac82831ca106",
     "grade": false,
     "grade_id": "cell-27cc59866683ace5",
     "locked": false,
     "schema_version": 1,
     "solution": true
    }
   },
   "outputs": [
    {
     "data": {
      "text/plain": [
       "[4,\n",
       " 4,\n",
       " 1,\n",
       " 3,\n",
       " 5,\n",
       " 4,\n",
       " 4,\n",
       " 3,\n",
       " 4,\n",
       " 3,\n",
       " 5,\n",
       " 2,\n",
       " 5,\n",
       " 2,\n",
       " 3,\n",
       " 2,\n",
       " 1,\n",
       " 5,\n",
       " 3,\n",
       " 5,\n",
       " 6,\n",
       " 5,\n",
       " 2,\n",
       " 3,\n",
       " 1,\n",
       " 6,\n",
       " 1,\n",
       " 6,\n",
       " 3,\n",
       " 4,\n",
       " 5,\n",
       " 1,\n",
       " 3,\n",
       " 4,\n",
       " 3,\n",
       " 5,\n",
       " 6,\n",
       " 2,\n",
       " 5,\n",
       " 4,\n",
       " 4,\n",
       " 5,\n",
       " 3,\n",
       " 1,\n",
       " 5,\n",
       " 1,\n",
       " 1,\n",
       " 6,\n",
       " 4,\n",
       " 6,\n",
       " 6,\n",
       " 6,\n",
       " 1,\n",
       " 5,\n",
       " 4,\n",
       " 3,\n",
       " 2,\n",
       " 6,\n",
       " 3,\n",
       " 6,\n",
       " 1,\n",
       " 2,\n",
       " 5,\n",
       " 2,\n",
       " 2,\n",
       " 2,\n",
       " 5,\n",
       " 4,\n",
       " 1,\n",
       " 1,\n",
       " 3,\n",
       " 5,\n",
       " 4,\n",
       " 1,\n",
       " 3,\n",
       " 5,\n",
       " 3,\n",
       " 6,\n",
       " 1,\n",
       " 5,\n",
       " 3,\n",
       " 5,\n",
       " 2,\n",
       " 5,\n",
       " 5,\n",
       " 5,\n",
       " 3,\n",
       " 4,\n",
       " 1,\n",
       " 5,\n",
       " 4,\n",
       " 3,\n",
       " 5,\n",
       " 2,\n",
       " 3,\n",
       " 2,\n",
       " 2,\n",
       " 2,\n",
       " 1,\n",
       " 5,\n",
       " 6,\n",
       " 3,\n",
       " 4,\n",
       " 1,\n",
       " 1,\n",
       " 6,\n",
       " 2,\n",
       " 2,\n",
       " 1,\n",
       " 1,\n",
       " 6,\n",
       " 5,\n",
       " 6,\n",
       " 4,\n",
       " 6,\n",
       " 5,\n",
       " 3,\n",
       " 5,\n",
       " 2,\n",
       " 2,\n",
       " 6,\n",
       " 5,\n",
       " 4,\n",
       " 5,\n",
       " 3,\n",
       " 4,\n",
       " 4,\n",
       " 6,\n",
       " 6,\n",
       " 6,\n",
       " 3,\n",
       " 1,\n",
       " 3,\n",
       " 5,\n",
       " 1,\n",
       " 4,\n",
       " 5,\n",
       " 6,\n",
       " 3,\n",
       " 2,\n",
       " 2,\n",
       " 1,\n",
       " 6,\n",
       " 3,\n",
       " 1,\n",
       " 6,\n",
       " 2,\n",
       " 3,\n",
       " 2,\n",
       " 3,\n",
       " 4,\n",
       " 1,\n",
       " 1,\n",
       " 2,\n",
       " 6,\n",
       " 2,\n",
       " 1,\n",
       " 5,\n",
       " 6,\n",
       " 5,\n",
       " 5,\n",
       " 6,\n",
       " 1,\n",
       " 1,\n",
       " 1,\n",
       " 6,\n",
       " 2,\n",
       " 5,\n",
       " 5,\n",
       " 1,\n",
       " 4,\n",
       " 1,\n",
       " 3,\n",
       " 1,\n",
       " 1,\n",
       " 5,\n",
       " 1,\n",
       " 2,\n",
       " 2,\n",
       " 6,\n",
       " 1,\n",
       " 4,\n",
       " 2,\n",
       " 6,\n",
       " 1,\n",
       " 6,\n",
       " 1,\n",
       " 5,\n",
       " 4,\n",
       " 5,\n",
       " 1,\n",
       " 3,\n",
       " 1,\n",
       " 2,\n",
       " 1,\n",
       " 6,\n",
       " 3,\n",
       " 3,\n",
       " 4,\n",
       " 2,\n",
       " 1,\n",
       " 5,\n",
       " 4,\n",
       " 1,\n",
       " 5,\n",
       " 1,\n",
       " 6,\n",
       " 4,\n",
       " 2,\n",
       " 3,\n",
       " 3,\n",
       " 6,\n",
       " 4,\n",
       " 5,\n",
       " 2,\n",
       " 6,\n",
       " 6,\n",
       " 2,\n",
       " 1,\n",
       " 6,\n",
       " 2,\n",
       " 2,\n",
       " 3,\n",
       " 5,\n",
       " 3,\n",
       " 1,\n",
       " 5,\n",
       " 4,\n",
       " 6,\n",
       " 2,\n",
       " 1,\n",
       " 4,\n",
       " 6,\n",
       " 4,\n",
       " 5,\n",
       " 5,\n",
       " 3,\n",
       " 6,\n",
       " 3,\n",
       " 4,\n",
       " 6,\n",
       " 3,\n",
       " 2,\n",
       " 5,\n",
       " 6,\n",
       " 1,\n",
       " 4,\n",
       " 6,\n",
       " 1,\n",
       " 3,\n",
       " 6,\n",
       " 1,\n",
       " 5,\n",
       " 3,\n",
       " 2,\n",
       " 2,\n",
       " 4,\n",
       " 3,\n",
       " 5,\n",
       " 3,\n",
       " 6,\n",
       " 3,\n",
       " 5,\n",
       " 6,\n",
       " 5,\n",
       " 2,\n",
       " 6,\n",
       " 3,\n",
       " 4,\n",
       " 6,\n",
       " 4,\n",
       " 6,\n",
       " 1,\n",
       " 1,\n",
       " 5,\n",
       " 2,\n",
       " 6,\n",
       " 3,\n",
       " 2,\n",
       " 2,\n",
       " 2,\n",
       " 6,\n",
       " 4,\n",
       " 4,\n",
       " 6,\n",
       " 6,\n",
       " 5,\n",
       " 4,\n",
       " 1,\n",
       " 4,\n",
       " 6,\n",
       " 5,\n",
       " 4,\n",
       " 6,\n",
       " 6,\n",
       " 1,\n",
       " 2,\n",
       " 4,\n",
       " 1,\n",
       " 3,\n",
       " 6,\n",
       " 2,\n",
       " 4,\n",
       " 5,\n",
       " 4,\n",
       " 5,\n",
       " 5,\n",
       " 1,\n",
       " 1,\n",
       " 4,\n",
       " 3,\n",
       " 3,\n",
       " 4,\n",
       " 1,\n",
       " 4,\n",
       " 2,\n",
       " 5,\n",
       " 6,\n",
       " 1,\n",
       " 6,\n",
       " 2,\n",
       " 1,\n",
       " 4,\n",
       " 6,\n",
       " 4,\n",
       " 3,\n",
       " 1,\n",
       " 2,\n",
       " 1,\n",
       " 6,\n",
       " 1,\n",
       " 6,\n",
       " 5,\n",
       " 5,\n",
       " 1,\n",
       " 2,\n",
       " 1,\n",
       " 5,\n",
       " 6,\n",
       " 2,\n",
       " 3,\n",
       " 3,\n",
       " 6,\n",
       " 2,\n",
       " 1,\n",
       " 4,\n",
       " 4,\n",
       " 6,\n",
       " 1,\n",
       " 1,\n",
       " 3,\n",
       " 4,\n",
       " 1,\n",
       " 3,\n",
       " 2,\n",
       " 6,\n",
       " 5,\n",
       " 6,\n",
       " 6,\n",
       " 3,\n",
       " 1,\n",
       " 2,\n",
       " 3,\n",
       " 1,\n",
       " 1,\n",
       " 1,\n",
       " 2,\n",
       " 6,\n",
       " 3,\n",
       " 5,\n",
       " 3,\n",
       " 3,\n",
       " 5,\n",
       " 1,\n",
       " 6,\n",
       " 6,\n",
       " 5,\n",
       " 6,\n",
       " 4,\n",
       " 6,\n",
       " 6,\n",
       " 4,\n",
       " 6,\n",
       " 4,\n",
       " 3,\n",
       " 5,\n",
       " 2,\n",
       " 2,\n",
       " 4,\n",
       " 5,\n",
       " 3,\n",
       " 1,\n",
       " 2,\n",
       " 2,\n",
       " 3,\n",
       " 3,\n",
       " 3,\n",
       " 3,\n",
       " 6,\n",
       " 1,\n",
       " 3,\n",
       " 5,\n",
       " 1,\n",
       " 1,\n",
       " 3,\n",
       " 2,\n",
       " 2,\n",
       " 5,\n",
       " 3,\n",
       " 3,\n",
       " 4,\n",
       " 5,\n",
       " 2,\n",
       " 3,\n",
       " 1,\n",
       " 4,\n",
       " 6,\n",
       " 2,\n",
       " 1,\n",
       " 3,\n",
       " 2,\n",
       " 5,\n",
       " 6,\n",
       " 1,\n",
       " 3,\n",
       " 4,\n",
       " 3,\n",
       " 3,\n",
       " 4,\n",
       " 1,\n",
       " 1,\n",
       " 5,\n",
       " 4,\n",
       " 4,\n",
       " 3,\n",
       " 3,\n",
       " 1,\n",
       " 4,\n",
       " 1,\n",
       " 6,\n",
       " 4,\n",
       " 4,\n",
       " 1,\n",
       " 3,\n",
       " 3,\n",
       " 6,\n",
       " 6,\n",
       " 2,\n",
       " 2,\n",
       " 6,\n",
       " 5,\n",
       " 4,\n",
       " 6,\n",
       " 1,\n",
       " 1,\n",
       " 1,\n",
       " 2,\n",
       " 6,\n",
       " 2,\n",
       " 1,\n",
       " 4,\n",
       " 1,\n",
       " 1,\n",
       " 4,\n",
       " 5,\n",
       " 5,\n",
       " 3,\n",
       " 4,\n",
       " 4,\n",
       " 5,\n",
       " 6,\n",
       " 6,\n",
       " 2,\n",
       " 4,\n",
       " 1,\n",
       " 3,\n",
       " 2,\n",
       " 3,\n",
       " 5,\n",
       " 2,\n",
       " 4,\n",
       " 2,\n",
       " 3,\n",
       " 1,\n",
       " 1,\n",
       " 6,\n",
       " 1,\n",
       " 5,\n",
       " 4,\n",
       " 6,\n",
       " 2,\n",
       " 1,\n",
       " 4,\n",
       " 4,\n",
       " 3,\n",
       " 2,\n",
       " 6,\n",
       " 1,\n",
       " 2,\n",
       " 5,\n",
       " 2,\n",
       " 1,\n",
       " 2,\n",
       " 4,\n",
       " 4,\n",
       " 3,\n",
       " 5,\n",
       " 2,\n",
       " 1,\n",
       " 5,\n",
       " 4,\n",
       " 2,\n",
       " 5,\n",
       " 4,\n",
       " 6,\n",
       " 6,\n",
       " 4,\n",
       " 5,\n",
       " 4,\n",
       " 6,\n",
       " 3,\n",
       " 4,\n",
       " 4,\n",
       " 6,\n",
       " 6,\n",
       " 2,\n",
       " 5,\n",
       " 5,\n",
       " 2,\n",
       " 1,\n",
       " 3,\n",
       " 6,\n",
       " 6,\n",
       " 3,\n",
       " 3,\n",
       " 1,\n",
       " 5,\n",
       " 2,\n",
       " 3,\n",
       " 5,\n",
       " 2,\n",
       " 4,\n",
       " 5,\n",
       " 3,\n",
       " 6,\n",
       " 6,\n",
       " 4,\n",
       " 1,\n",
       " 1,\n",
       " 5,\n",
       " 1,\n",
       " 1,\n",
       " 2,\n",
       " 2,\n",
       " 1,\n",
       " 3,\n",
       " 1,\n",
       " 4,\n",
       " 3,\n",
       " 2,\n",
       " 2,\n",
       " 6,\n",
       " 4,\n",
       " 3,\n",
       " 5,\n",
       " 4,\n",
       " 5,\n",
       " 5,\n",
       " 1,\n",
       " 5,\n",
       " 1,\n",
       " 6,\n",
       " 5,\n",
       " 5,\n",
       " 1,\n",
       " 6,\n",
       " 4,\n",
       " 2,\n",
       " 3,\n",
       " 5,\n",
       " 5,\n",
       " 4,\n",
       " 4,\n",
       " 4,\n",
       " 5,\n",
       " 5,\n",
       " 2,\n",
       " 1,\n",
       " 6,\n",
       " 1,\n",
       " 6,\n",
       " 2,\n",
       " 3,\n",
       " 5,\n",
       " 5,\n",
       " 3,\n",
       " 3,\n",
       " 1,\n",
       " 4,\n",
       " 3,\n",
       " 3,\n",
       " 4,\n",
       " 4,\n",
       " 4,\n",
       " 1,\n",
       " 2,\n",
       " 6,\n",
       " 2,\n",
       " 2,\n",
       " 3,\n",
       " 6,\n",
       " 3,\n",
       " 1,\n",
       " 1,\n",
       " 4,\n",
       " 4,\n",
       " 2,\n",
       " 4,\n",
       " 5,\n",
       " 6,\n",
       " 1,\n",
       " 6,\n",
       " 6,\n",
       " 2,\n",
       " 3,\n",
       " 4,\n",
       " 1,\n",
       " 5,\n",
       " 4,\n",
       " 4,\n",
       " 4,\n",
       " 1,\n",
       " 1,\n",
       " 4,\n",
       " 2,\n",
       " 1,\n",
       " 1,\n",
       " 5,\n",
       " 5,\n",
       " 2,\n",
       " 6,\n",
       " 3,\n",
       " 1,\n",
       " 6,\n",
       " 5,\n",
       " 6,\n",
       " 3,\n",
       " 2,\n",
       " 4,\n",
       " 4,\n",
       " 1,\n",
       " 1,\n",
       " 5,\n",
       " 6,\n",
       " 4,\n",
       " 5,\n",
       " 6,\n",
       " 3,\n",
       " 6,\n",
       " 1,\n",
       " 6,\n",
       " 6,\n",
       " 5,\n",
       " 3,\n",
       " 2,\n",
       " 4,\n",
       " 3,\n",
       " 6,\n",
       " 6,\n",
       " 1,\n",
       " 5,\n",
       " 2,\n",
       " 1,\n",
       " 4,\n",
       " 4,\n",
       " 3,\n",
       " 2,\n",
       " 4,\n",
       " 3,\n",
       " 6,\n",
       " 1,\n",
       " 1,\n",
       " 1,\n",
       " 4,\n",
       " 3,\n",
       " 1,\n",
       " 5,\n",
       " 6,\n",
       " 5,\n",
       " 5,\n",
       " 2,\n",
       " 2,\n",
       " 1,\n",
       " 6,\n",
       " 5,\n",
       " 6,\n",
       " 5,\n",
       " 4,\n",
       " 5,\n",
       " 3,\n",
       " 1,\n",
       " 2,\n",
       " 4,\n",
       " 5,\n",
       " 4,\n",
       " 1,\n",
       " 1,\n",
       " 4,\n",
       " 1,\n",
       " 1,\n",
       " 4,\n",
       " 2,\n",
       " 6,\n",
       " 1,\n",
       " 4,\n",
       " 4,\n",
       " 6,\n",
       " 4,\n",
       " 1,\n",
       " 4,\n",
       " 3,\n",
       " 6,\n",
       " 3,\n",
       " 1,\n",
       " 3,\n",
       " 1,\n",
       " 1,\n",
       " 3,\n",
       " 6,\n",
       " 1,\n",
       " 3,\n",
       " 3,\n",
       " 2,\n",
       " 1,\n",
       " 2,\n",
       " 3,\n",
       " 1,\n",
       " 5,\n",
       " 2,\n",
       " 2,\n",
       " 1,\n",
       " 2,\n",
       " 6,\n",
       " 6,\n",
       " 6,\n",
       " 1,\n",
       " 6,\n",
       " 1,\n",
       " 3,\n",
       " 3,\n",
       " 6,\n",
       " 1,\n",
       " 5,\n",
       " 2,\n",
       " 2,\n",
       " 2,\n",
       " 4,\n",
       " 1,\n",
       " 4,\n",
       " 3,\n",
       " 6,\n",
       " 3,\n",
       " 2,\n",
       " 1,\n",
       " 2,\n",
       " 3,\n",
       " 3,\n",
       " 4,\n",
       " 3,\n",
       " 3,\n",
       " 5,\n",
       " 6,\n",
       " 3,\n",
       " 2,\n",
       " 5,\n",
       " 1,\n",
       " 1,\n",
       " 5,\n",
       " 5,\n",
       " 3,\n",
       " 2,\n",
       " 4,\n",
       " 2,\n",
       " 2,\n",
       " 2,\n",
       " 3,\n",
       " 5,\n",
       " 2,\n",
       " 2,\n",
       " 2,\n",
       " 3,\n",
       " 3,\n",
       " 4,\n",
       " 6,\n",
       " 1,\n",
       " 2,\n",
       " 5,\n",
       " 1,\n",
       " 4,\n",
       " 1,\n",
       " 6,\n",
       " 1,\n",
       " 2,\n",
       " 4,\n",
       " 3,\n",
       " 5,\n",
       " 4,\n",
       " 6,\n",
       " 2,\n",
       " 5,\n",
       " 4,\n",
       " 3,\n",
       " 6,\n",
       " 3,\n",
       " 1,\n",
       " 2,\n",
       " 4,\n",
       " 6,\n",
       " 3,\n",
       " 6,\n",
       " 5,\n",
       " 1,\n",
       " 4,\n",
       " 4,\n",
       " 1,\n",
       " 4,\n",
       " 6,\n",
       " 3,\n",
       " 4,\n",
       " 2,\n",
       " 3,\n",
       " 3,\n",
       " 4,\n",
       " 1,\n",
       " 2,\n",
       " 1,\n",
       " 3,\n",
       " 1,\n",
       " 5,\n",
       " 5,\n",
       " 6,\n",
       " 2,\n",
       " 6,\n",
       " 4,\n",
       " 4,\n",
       " 2,\n",
       " 4,\n",
       " 4,\n",
       " 2,\n",
       " 2,\n",
       " 4,\n",
       " 3,\n",
       " 5,\n",
       " 2,\n",
       " 3,\n",
       " 4,\n",
       " 6,\n",
       " 6,\n",
       " 1,\n",
       " 4,\n",
       " 2,\n",
       " 3,\n",
       " 1,\n",
       " 6,\n",
       " 4,\n",
       " 5,\n",
       " 4,\n",
       " 1,\n",
       " 2,\n",
       " 3,\n",
       " 1,\n",
       " 6,\n",
       " 3,\n",
       " 5,\n",
       " 5,\n",
       " 2,\n",
       " 4,\n",
       " 6,\n",
       " 4,\n",
       " 1,\n",
       " 6,\n",
       " 4,\n",
       " 2,\n",
       " 5,\n",
       " 4,\n",
       " 3,\n",
       " 6,\n",
       " 1,\n",
       " 1,\n",
       " 3,\n",
       " 6,\n",
       " 1,\n",
       " 1,\n",
       " 3,\n",
       " 4,\n",
       " 5,\n",
       " 5,\n",
       " 6,\n",
       " 4,\n",
       " 4,\n",
       " 1,\n",
       " 6,\n",
       " 3,\n",
       " 3,\n",
       " 3,\n",
       " 6,\n",
       " 2,\n",
       " 5,\n",
       " 1,\n",
       " 1,\n",
       " 1,\n",
       " 3,\n",
       " 3,\n",
       " 5,\n",
       " 3,\n",
       " 1,\n",
       " 5,\n",
       " 2,\n",
       " 2,\n",
       " 1,\n",
       " 4,\n",
       " 3,\n",
       " 3,\n",
       " 5,\n",
       " 2,\n",
       " 5,\n",
       " 5,\n",
       " 6,\n",
       " 2,\n",
       " 5,\n",
       " 1,\n",
       " 4,\n",
       " 6,\n",
       " 5,\n",
       " 4,\n",
       " 6,\n",
       " 3,\n",
       " 3,\n",
       " 4,\n",
       " 3,\n",
       " 5,\n",
       " 6,\n",
       " 2,\n",
       " 2,\n",
       " 1,\n",
       " 6,\n",
       " 1,\n",
       " 4,\n",
       " 4,\n",
       " 5,\n",
       " 4,\n",
       " 2,\n",
       " 5,\n",
       " 6,\n",
       " 3,\n",
       " 3,\n",
       " 6,\n",
       " 4,\n",
       " 6,\n",
       " 4,\n",
       " 2,\n",
       " 4,\n",
       " 4,\n",
       " 6,\n",
       " 5,\n",
       " 3,\n",
       " 4,\n",
       " 6,\n",
       " 1,\n",
       " 4,\n",
       " 3,\n",
       " 2,\n",
       " 6,\n",
       " 4,\n",
       " 1,\n",
       " 5,\n",
       " 2,\n",
       " 1,\n",
       " 3,\n",
       " 4,\n",
       " 4,\n",
       " 1,\n",
       " 5,\n",
       " 1,\n",
       " 6,\n",
       " 1,\n",
       " 6,\n",
       " 6,\n",
       " 6,\n",
       " 4,\n",
       " 1,\n",
       " 3,\n",
       " 1,\n",
       " 1,\n",
       " 5,\n",
       " 1,\n",
       " 3,\n",
       " 6,\n",
       " 6,\n",
       " 3,\n",
       " ...]"
      ]
     },
     "execution_count": 40,
     "metadata": {},
     "output_type": "execute_result"
    }
   ],
   "source": [
    "### GRADED\n",
    "\n",
    "# random seed for reproducibility\n",
    "import random\n",
    "random.seed(0)\n",
    "### YOUR SOLUTION HERE\n",
    "ans3a = [randint(1, 6) for _ in range(10000)]\n",
    "\n",
    "ans3a"
   ]
  },
  {
   "cell_type": "code",
   "execution_count": null,
   "metadata": {
    "deletable": false,
    "editable": false,
    "nbgrader": {
     "checksum": "198dc28d2b6fa390bf00cbb8dbf2f471",
     "grade": true,
     "grade_id": "cell-c3bed7f4c5e5b82a",
     "locked": true,
     "points": 2,
     "schema_version": 1,
     "solution": false
    }
   },
   "outputs": [],
   "source": []
  },
  {
   "cell_type": "markdown",
   "metadata": {
    "deletable": false,
    "editable": false,
    "nbgrader": {
     "checksum": "693bfee272715af3ae7490fb2def67fb",
     "grade": false,
     "grade_id": "cell-430912365f45388f",
     "locked": true,
     "schema_version": 1,
     "solution": false
    }
   },
   "source": [
    "Now, let's have a look at the new distribution."
   ]
  },
  {
   "cell_type": "code",
   "execution_count": 41,
   "metadata": {
    "deletable": false,
    "editable": false,
    "nbgrader": {
     "checksum": "e0cd61fcf63813f98bc03fc22706f7c4",
     "grade": false,
     "grade_id": "cell-8c3a7a2780eef9cd",
     "locked": true,
     "schema_version": 1,
     "solution": false
    }
   },
   "outputs": [
    {
     "data": {
      "image/png": "[encoded data removed]",
      "text/plain": [
       "<Figure size 640x480 with 1 Axes>"
      ]
     },
     "metadata": {},
     "output_type": "display_data"
    }
   ],
   "source": [
    "plt.hist(ans3a,bins=12)\n",
    "plt.show()"
   ]
  },
  {
   "cell_type": "markdown",
   "metadata": {
    "deletable": false,
    "editable": false,
    "nbgrader": {
     "checksum": "4e29da7b3050afcfb3c09573fae35397",
     "grade": false,
     "grade_id": "cell-9551cb973b377220",
     "locked": true,
     "schema_version": 1,
     "solution": false
    }
   },
   "source": [
    "As you can see the distribution looks more uniform now because we have increased the amount of sample data.\n",
    "\n",
    "### Rolling Two Dice\n",
    "\n",
    "The distribution changes its shape when adding the results of rolling two dice. \n",
    "\n",
    "In the code cell below, we have defined a *function `roll_two`* that accepts, as input, the argument *`rolls`* to describe the total number of rolls in our experiment.\n",
    "\n",
    "The *function* returns the sum, *`total`*, of the outcomes of each roll.\n"
   ]
  },
  {
   "cell_type": "code",
   "execution_count": 52,
   "metadata": {
    "deletable": false,
    "editable": false,
    "nbgrader": {
     "checksum": "cc5d01262bc0ea9811e620a07e72c910",
     "grade": false,
     "grade_id": "cell-1c886ae52a8c3d28",
     "locked": true,
     "schema_version": 1,
     "solution": false
    }
   },
   "outputs": [],
   "source": [
    "def roll_two(rolls):\n",
    "    total = []\n",
    "    \n",
    "    for _ in range(rolls):\n",
    "        roll_1 = randint(1,6)\n",
    "        roll_2 = randint(1,6)\n",
    "        total += [roll_1 + roll_2]\n",
    "        \n",
    "    return total"
   ]
  },
  {
   "cell_type": "markdown",
   "metadata": {
    "deletable": false,
    "editable": false,
    "nbgrader": {
     "checksum": "f9a45b2ca4495fa9f0596f9437f426ca",
     "grade": false,
     "grade_id": "cell-85a48ecc33dd5063",
     "locked": true,
     "schema_version": 1,
     "solution": false
    }
   },
   "source": [
    "Below, we create a *list* containing the result from adding 1,000 die rolls."
   ]
  },
  {
   "cell_type": "code",
   "execution_count": 53,
   "metadata": {
    "deletable": false,
    "editable": false,
    "nbgrader": {
     "checksum": "c8705caaadc773fd49f188a5257f83c1",
     "grade": false,
     "grade_id": "cell-17568f4335124669",
     "locked": true,
     "schema_version": 1,
     "solution": false
    }
   },
   "outputs": [],
   "source": [
    "rolls = 1000\n",
    "new_roll = roll_two(rolls)"
   ]
  },
  {
   "cell_type": "markdown",
   "metadata": {
    "deletable": false,
    "editable": false,
    "nbgrader": {
     "checksum": "115528761f9375e5635111c20d871af9",
     "grade": false,
     "grade_id": "cell-949fadf4dc3c8c13",
     "locked": true,
     "schema_version": 1,
     "solution": false
    }
   },
   "source": [
    "Next, we *plot* for you the histogram graph of the distribution for this experiment."
   ]
  },
  {
   "cell_type": "code",
   "execution_count": 54,
   "metadata": {
    "deletable": false,
    "editable": false,
    "nbgrader": {
     "checksum": "f54de249f9044eda63db5348a32453f6",
     "grade": false,
     "grade_id": "cell-c42f0d6e64bee82c",
     "locked": true,
     "schema_version": 1,
     "solution": false
    }
   },
   "outputs": [
    {
     "data": {
      "image/png": "[encoded data removed]",
      "text/plain": [
       "<Figure size 640x480 with 1 Axes>"
      ]
     },
     "metadata": {},
     "output_type": "display_data"
    }
   ],
   "source": [
    "plt.hist(new_roll, bins=20)\n",
    "plt.show()"
   ]
  },
  {
   "cell_type": "markdown",
   "metadata": {
    "deletable": false,
    "editable": false,
    "nbgrader": {
     "checksum": "c30073002660ab866bbd28c32a19ce82",
     "grade": false,
     "grade_id": "cell-5b7343418234a15e",
     "locked": true,
     "schema_version": 1,
     "solution": false
    }
   },
   "source": [
    "Can you think about why the distribution has this shape? Which distribution does it remind you of?"
   ]
  },
  {
   "cell_type": "markdown",
   "metadata": {
    "deletable": false,
    "editable": false,
    "nbgrader": {
     "checksum": "c6bdad1ee9fd42c75c3e87fdff8bf9de",
     "grade": false,
     "grade_id": "cell-9d03c68635329dd0",
     "locked": true,
     "schema_version": 1,
     "solution": false
    }
   },
   "source": [
    "### The Uniform Distribution \n",
    "\n",
    "You can visualize uniform distribution in *Python* with the help of a random number generator acting over an interval of numbers *`(a,b)`*. You need to import the *`uniform()` function* from *`scipy.stats` module*."
   ]
  },
  {
   "cell_type": "code",
   "execution_count": 55,
   "metadata": {
    "deletable": false,
    "editable": false,
    "nbgrader": {
     "checksum": "33a85049733ad398a2818939b6fcdf54",
     "grade": false,
     "grade_id": "cell-1c55d3de6ff0282d",
     "locked": true,
     "schema_version": 1,
     "solution": false
    }
   },
   "outputs": [],
   "source": [
    "from scipy.stats import uniform"
   ]
  },
  {
   "cell_type": "markdown",
   "metadata": {
    "deletable": false,
    "editable": false,
    "nbgrader": {
     "checksum": "d0511dfd19bb39108540121a4b2df5bb",
     "grade": false,
     "grade_id": "cell-868d64f46484be5c",
     "locked": true,
     "schema_version": 1,
     "solution": false
    }
   },
   "source": [
    "The *`uniform()` function* generates a uniform continuous variable between the specified interval. If you want to maintain reproducibility, include a random_state argument assigned to a number.\n",
    "\n",
    "### Question 4\n",
    "*3 points*\n",
    "\n",
    "In the code cell below, assign the values *`1000, 10`* and *`20`* to *`ans4a, ans4b,`* and *`ans4c`*, respectively.\n",
    "\n",
    "Next, generate the random variable values for this experiment by using the *`uniform.rvs()` function* imported above. \n",
    "\n",
    "Inside the *function*, set *`size = ans4a`*, *`loc = ans4b`*, and *`scale = ans4c`*. Assign the result to *`ans4d`*.\n",
    "Pass the probability value defined above to this *function*. Assign this result to *`ans1b`*."
   ]
  },
  {
   "cell_type": "code",
   "execution_count": 58,
   "metadata": {
    "deletable": false,
    "nbgrader": {
     "checksum": "210f9b846c0d519f6c19ccddb6e054db",
     "grade": false,
     "grade_id": "cell-e6e242a27570f43b",
     "locked": false,
     "schema_version": 1,
     "solution": true
    }
   },
   "outputs": [
    {
     "data": {
      "text/plain": [
       "array([15.91899667, 28.58583343, 15.31811255, 26.56293226, 29.70217359,\n",
       "       25.66793291, 20.37979841, 11.32148528, 19.44827578, 18.76511894,\n",
       "       14.05592082, 18.47175273, 17.15515768, 13.27368522, 18.82748287,\n",
       "       15.25599913, 20.44124841, 10.70320119, 28.1246284 , 26.32728611,\n",
       "       21.05162665, 27.03617166, 29.24790148, 12.21044588, 22.61663617,\n",
       "       29.95988002, 29.75778339, 22.06645985, 12.56041741, 21.66385662,\n",
       "       10.04129271, 13.97822669, 29.12246319, 16.60881145, 22.76780212,\n",
       "       15.61718989, 28.95643774, 24.5711746 , 16.59302315, 25.83522842,\n",
       "       12.16331049, 17.8463788 , 14.42436255, 23.67452895, 12.04892564,\n",
       "       17.94051665, 15.5329946 , 20.12685839, 16.99795361, 24.12821155,\n",
       "       10.49154049, 22.67973843, 14.61142579, 15.37418058, 26.00511207,\n",
       "       29.11136788, 16.3310042 , 26.53610541, 12.07981676, 22.67963306,\n",
       "       25.02064599, 13.11955856, 18.52004775, 27.85414328, 12.07156927,\n",
       "       10.36192716, 21.81170758, 18.71063081, 25.97378498, 28.46911076,\n",
       "       15.98307289, 17.76808234, 19.72544173, 21.76302921, 29.67707659,\n",
       "       23.94660502, 17.79097015, 15.27535373, 28.89251437, 12.71096866,\n",
       "       24.40531705, 28.50790051, 23.29331173, 18.4610888 , 13.9798188 ,\n",
       "       17.34950645, 24.13743619, 22.99068448, 28.55952333, 27.33721827,\n",
       "       26.32301505, 28.22901751, 15.52674305, 17.3904708 , 17.59787808,\n",
       "       21.20901177, 23.36436459, 15.73433366, 10.38924935, 17.98444767,\n",
       "       16.17055919, 28.84369438, 27.76530081, 27.20621357, 23.05999522,\n",
       "       16.88578329, 20.97698535, 26.30450081, 11.97220737, 26.02149761,\n",
       "       10.82359583, 26.32842062, 26.15127608, 11.02014618, 22.54321423,\n",
       "       20.04906149, 13.39639006, 12.96757875, 25.46518252, 21.35385498,\n",
       "       29.6599827 , 29.64495555, 29.85333987, 12.37231037, 28.76512274,\n",
       "       14.89139218, 19.1642452 , 25.14813112, 14.07241864, 21.32623211,\n",
       "       13.71633496, 12.09472213, 12.33117225, 17.1527807 , 10.09309674,\n",
       "       18.49707842, 23.2839421 , 18.0337637 , 11.71589201, 11.25377724,\n",
       "       15.56233026, 13.38625381, 29.30189946, 13.0246045 , 26.10924875,\n",
       "       21.72215883, 21.3857384 , 20.24161432, 29.43526152, 17.2768955 ,\n",
       "       25.75831502, 21.10588215, 17.91267335, 29.10931867, 21.96631939,\n",
       "       12.37833884, 18.35078402, 25.63163455, 23.87494046, 28.3268066 ,\n",
       "       15.18754768, 25.16387433, 19.19750415, 21.47219494, 29.10093362,\n",
       "       29.5857264 , 27.23181928, 17.18194175, 27.75401671, 22.77218355,\n",
       "       18.59993561, 10.71485365, 25.40256248, 20.04211161, 25.72376999,\n",
       "       24.96045599, 25.87134736, 16.01302317, 26.01597198, 20.97692657,\n",
       "       19.46652401, 23.50251828, 10.42717366, 12.04633632, 15.8435473 ,\n",
       "       29.6598022 , 12.79491558, 16.61192602, 11.02106129, 16.62537761,\n",
       "       16.40652573, 28.93614342, 26.90308174, 17.65528438, 10.49538116,\n",
       "       26.62062228, 23.21072354, 13.04728967, 29.92142542, 12.00466875,\n",
       "       27.34229083, 15.88532328, 18.70706933, 25.90913054, 23.55016712,\n",
       "       28.75728749, 22.42280651, 11.95620323, 27.68720726, 25.3831105 ,\n",
       "       24.23740902, 11.07467095, 17.92445489, 13.34871639, 26.43807817,\n",
       "       24.01057246, 27.66155195, 29.33150214, 25.49495228, 29.88466166,\n",
       "       22.29539772, 10.74259208, 10.2850303 , 16.8420775 , 26.46943438,\n",
       "       27.32269413, 29.21625058, 11.30242937, 10.89142222, 28.26567193,\n",
       "       16.10093397, 21.15974801, 29.64889766, 18.00897069, 23.31742797,\n",
       "       18.01759127, 25.36389329, 20.55429451, 14.75046276, 15.42612203,\n",
       "       15.16118425, 20.64640657, 24.06378032, 28.985598  , 23.8817475 ,\n",
       "       25.62385688, 13.37852232, 17.4812525 , 18.2756044 , 23.7276046 ,\n",
       "       15.91783953, 16.06583843, 17.11778309, 26.20604163, 21.5518018 ,\n",
       "       11.5055456 , 11.56492199, 17.42573889, 25.33182101, 23.77366853,\n",
       "       24.15964709, 25.34420132, 15.74305426, 20.96512564, 20.86705281,\n",
       "       24.79265002, 29.13741138, 15.5597989 , 25.86563346, 23.19941097,\n",
       "       21.60475742, 25.49759559, 28.88064933, 10.73382836, 12.94800205,\n",
       "       25.12574463, 11.67582706, 20.32247401, 14.39721553, 15.48591408,\n",
       "       24.03680966, 10.60385547, 27.46638856, 18.88957911, 20.04786588,\n",
       "       20.80095927, 22.91088589, 16.89713173, 12.02214981, 16.36757873,\n",
       "       13.36284236, 21.12266359, 16.36057262, 29.16134356, 29.31468556,\n",
       "       22.40251761, 22.34994535, 29.70757129, 27.74566302, 25.30139898,\n",
       "       16.27181223, 17.31078056, 14.02533532, 19.74296254, 29.80737044,\n",
       "       28.24301906, 12.36698868, 10.50380579, 27.97275337, 20.74340256,\n",
       "       14.00379776, 23.47306539, 22.88446356, 12.44171214, 15.19200467,\n",
       "       11.20155929, 14.19720948, 12.6461135 , 13.86472585, 23.70934292,\n",
       "       10.98999489, 12.0370923 , 12.68347276, 16.33082242, 15.97500622,\n",
       "       15.10127571, 25.01073307, 29.96045576, 20.67955847, 28.88405436,\n",
       "       17.93220224, 12.13364894, 18.17547659, 15.92255547, 19.86813925,\n",
       "       23.14087354, 19.22100438, 28.70321024, 27.69529645, 24.0395519 ,\n",
       "       19.79369825, 12.63374564, 17.94027334, 24.08803079, 15.69771041,\n",
       "       12.07976155, 28.15796915, 24.1810162 , 22.30552853, 25.84997811,\n",
       "       26.71292075, 19.66917996, 27.62376503, 28.32838021, 15.43102191,\n",
       "       22.1509072 , 20.53168058, 20.75891558, 28.75326188, 16.10377405,\n",
       "       29.66867956, 28.0426243 , 19.17445777, 26.34906527, 25.38093989,\n",
       "       23.55789939, 16.39667779, 13.92901984, 23.43055394, 26.85946593,\n",
       "       10.32505577, 22.85606751, 18.85746049, 27.9617551 , 16.42945862,\n",
       "       19.48369625, 20.29534208, 12.80879043, 24.25784605, 26.6095269 ,\n",
       "       11.15818554, 15.82777641, 10.76089363, 29.13088209, 23.34337641,\n",
       "       29.28400839, 20.62988557, 26.04137048, 17.48827968, 17.07638065,\n",
       "       17.56535634, 23.15724267, 17.18906302, 28.00734903, 29.6654973 ,\n",
       "       10.60853031, 13.87246581, 12.24499985, 10.84728094, 14.55481987,\n",
       "       18.93586641, 26.73980731, 14.43648061, 19.87890511, 28.59237479,\n",
       "       23.34429414, 25.9615804 , 21.0198794 , 29.60932918, 21.77324309,\n",
       "       10.91021428, 13.959656  , 18.09547258, 22.02554345, 25.43861735,\n",
       "       18.26172252, 24.2011661 , 25.79739006, 16.34520394, 29.5854048 ,\n",
       "       22.9931299 , 27.61996122, 21.11875378, 24.83206214, 25.41088123,\n",
       "       28.16496758, 13.00699514, 21.16566848, 18.56757026, 28.46318042,\n",
       "       12.10189388, 29.65147777, 27.50902648, 11.47652563, 19.81932771,\n",
       "       24.35119   , 24.76303091, 28.1298825 , 25.99730871, 16.21860761,\n",
       "       19.96869572, 24.03571526, 12.76873683, 13.87981595, 19.62084896,\n",
       "       15.96491597, 27.251185  , 21.72554643, 16.97330395, 26.97666051,\n",
       "       26.09756897, 29.96709754, 26.94615377, 18.2891307 , 12.54997764,\n",
       "       26.81281816, 11.19515836, 17.00542415, 28.39475962, 29.21532947,\n",
       "       22.81129187, 23.77296634, 10.84908977, 20.28960682, 20.93736358,\n",
       "       16.80201492, 11.3719367 , 14.57815199, 17.15967874, 18.70283973,\n",
       "       21.81853451, 24.44783037, 16.35263747, 16.5790752 , 10.39383285,\n",
       "       10.8174972 , 15.15643389, 24.80489995, 22.56627661, 25.39578041,\n",
       "       25.37838872, 27.13134935, 24.40638532, 29.58021838, 27.97650439,\n",
       "       21.73434332, 21.76315341, 10.68534081, 29.97053155, 12.63151995,\n",
       "       24.80694393, 26.4203039 , 17.46109059, 13.93704109, 11.97519774,\n",
       "       24.97212012, 19.05307058, 24.27435518, 28.30815298, 12.93167472,\n",
       "       28.38342001, 18.23252919, 16.1053402 , 28.86124521, 29.81303385,\n",
       "       13.97784436, 23.13676694, 12.12990628, 23.01828008, 26.54626456,\n",
       "       23.68997093, 18.34666284, 17.66132719, 17.8624483 , 21.79423636,\n",
       "       27.6313454 , 28.58132315, 11.0705924 , 13.63244789, 12.24448632,\n",
       "       13.86669282, 16.93215621, 20.13063365, 22.58922454, 24.64284438,\n",
       "       27.80223083, 29.78176874, 23.25712957, 26.90729037, 25.56077694,\n",
       "       16.15064078, 27.5138454 , 10.85526276, 10.00734688, 15.47465259,\n",
       "       19.24195059, 22.7672579 , 12.03540533, 23.46020268, 26.03631734,\n",
       "       13.70625839, 18.3025051 , 20.3996998 , 19.03614036, 25.99659862,\n",
       "       29.21044796, 25.97906328, 11.55985636, 26.09871144, 11.33192664,\n",
       "       14.7194077 , 13.06193794, 13.95038214, 20.56630254, 23.43379715,\n",
       "       19.40642565, 29.19391278, 14.8058464 , 25.26280461, 27.40364357,\n",
       "       21.24132222, 19.12445004, 21.92368894, 18.5761954 , 21.10387765,\n",
       "       18.33867904, 18.00939421, 23.90692936, 11.85702426, 13.33084145,\n",
       "       27.02396943, 25.42154694, 15.62907455, 17.54537865, 28.52053013,\n",
       "       26.3615445 , 22.286926  , 14.42980358, 10.88503943, 18.62515694,\n",
       "       23.45254279, 26.56960981, 27.05378011, 10.65551803, 14.88314068,\n",
       "       16.78189177, 13.77464422, 26.05950757, 25.34931526, 20.33666081,\n",
       "       29.65852956, 12.88117082, 27.99303407, 12.32926508, 13.26363411,\n",
       "       23.92438401, 12.19139384, 21.31690191, 18.40467073, 24.56947931,\n",
       "       28.01350478, 25.39743029, 26.99379753, 10.65890897, 16.20390996,\n",
       "       20.30866173, 18.31906629, 14.62509906, 16.15748196, 28.90861941,\n",
       "       15.8836176 , 17.0780822 , 10.07419548, 26.90155255, 13.09681407,\n",
       "       14.08288551, 15.10529034, 27.69244114, 14.12902822, 25.95052722,\n",
       "       26.16098681, 28.54041138, 12.31122627, 14.34557945, 24.85796584,\n",
       "       13.92001509, 15.72659094, 13.3348316 , 13.45393372, 19.63106709,\n",
       "       12.19366124, 16.43395237, 18.53187819, 10.49096233, 17.76666333,\n",
       "       11.88244872, 19.87157062, 26.51476377, 26.36844324, 11.60897031,\n",
       "       22.02455515, 26.69172764, 14.75945086, 25.23853023, 27.81528693,\n",
       "       26.12248303, 12.14602063, 10.18119999, 13.8344822 , 15.40954682,\n",
       "       22.32365981, 17.6854635 , 24.06814061, 17.06149921, 13.08850849,\n",
       "       16.25379687, 27.68648453, 29.17064688, 14.15025468, 25.76936774,\n",
       "       15.46697473, 27.74263087, 13.31091226, 23.31919837, 11.68422529,\n",
       "       29.47786648, 24.01266689, 26.83631479, 21.33338679, 19.53602728,\n",
       "       22.43764783, 20.57483023, 19.3876871 , 25.18900503, 13.5640191 ,\n",
       "       13.42344096, 18.63685301, 16.41495832, 11.48249036, 26.88940985,\n",
       "       25.43205613, 20.87843   , 29.58649075, 11.45200133, 25.33338602,\n",
       "       15.32740783, 17.3719784 , 14.3855877 , 25.78075783, 12.88480204,\n",
       "       26.80033395, 23.23155296, 11.18046491, 26.21963463, 22.55511432,\n",
       "       28.09964639, 24.97444613, 21.22241855, 26.73094361, 15.56100477,\n",
       "       20.93900124, 15.8723364 , 29.36408782, 14.52392602, 10.31476479,\n",
       "       16.51709684, 20.05018794, 10.56725868, 21.184966  , 27.4856555 ,\n",
       "       24.09464389, 22.45936646, 29.11923501, 29.16558668, 26.48532939,\n",
       "       22.15483695, 19.75529119, 10.26632226, 22.12523812, 29.78176151,\n",
       "       26.362021  , 16.81209288, 13.0409405 , 25.68117229, 24.87875641,\n",
       "       29.34093584, 27.49684724, 21.11325251, 12.02568494, 19.67001317,\n",
       "       16.27390108, 20.24816964, 16.03403149, 27.23645984, 26.88654028,\n",
       "       16.30930314, 21.99162693, 18.60361715, 28.18185514, 13.74721803,\n",
       "       23.95456804, 29.40750656, 13.50551039, 14.03932857, 23.87446677,\n",
       "       25.58307849, 19.8109811 , 22.1937293 , 14.25364818, 19.53228457,\n",
       "       12.24143762, 16.42843851, 15.6955941 , 18.8925072 , 28.60252724,\n",
       "       13.62535324, 18.02776493, 22.31194438, 28.93114172, 12.66296383,\n",
       "       28.35753234, 11.62107577, 19.61482794, 19.09179734, 14.19205458,\n",
       "       16.94919336, 19.08330537, 27.30422926, 29.10128291, 20.37851357,\n",
       "       27.40199581, 22.16343171, 16.98174684, 13.88388415, 18.26269544,\n",
       "       20.45648566, 10.88886777, 12.91682332, 22.00368848, 14.50003189,\n",
       "       26.74652752, 16.538845  , 12.09668415, 11.67061177, 28.74246041,\n",
       "       12.36040622, 12.81819528, 27.25332116, 15.08576261, 23.31902822,\n",
       "       26.33451374, 22.1436128 , 29.14977087, 24.17765799, 12.2550302 ,\n",
       "       21.16820053, 24.36373052, 26.03914481, 10.52642671, 24.37757831,\n",
       "       26.51361642, 24.93667622, 20.24698291, 19.16041926, 20.98837167,\n",
       "       24.09287398, 28.45828581, 22.34070421, 27.75668613, 24.02513695,\n",
       "       11.36672755, 20.0165638 , 15.72972697, 15.70349856, 17.11855102,\n",
       "       16.29465544, 21.5721996 , 23.67203001, 15.37498774, 12.59525245,\n",
       "       11.17617442, 21.5150569 , 13.72260333, 10.18495988, 28.55506159,\n",
       "       20.74280838, 11.8489636 , 26.85842224, 29.66405477, 18.97201324,\n",
       "       10.84979216, 12.35091882, 17.63307493, 27.71045275, 12.96077359,\n",
       "       26.47980188, 10.2995252 , 19.14777398, 22.88794282, 11.20758964,\n",
       "       22.29525501, 28.88808243, 13.2051984 , 24.59222766, 22.18187796,\n",
       "       13.70232778, 10.12406829, 10.18568901, 20.64184818, 28.85558819,\n",
       "       22.88597255, 24.28599693, 19.87730974, 21.63777885, 12.52735051,\n",
       "       27.53641241, 25.21585257, 29.96397906, 15.95445895, 14.54035544,\n",
       "       12.50323316, 29.28419513, 25.61770369, 13.32649227, 21.05372942,\n",
       "       18.27536416, 13.02972016, 13.2414597 , 29.26939989, 16.09928366,\n",
       "       28.82878583, 11.51221346, 19.21606085, 12.59238097, 10.0957477 ,\n",
       "       21.07532147, 12.2778821 , 24.44049062, 23.96232751, 13.52665815,\n",
       "       28.83484287, 24.42086817, 15.95940528, 24.18467528, 24.63860555,\n",
       "       16.84452663, 17.51177125, 17.18213015, 22.33236887, 28.00820293,\n",
       "       13.46386472, 27.5039922 , 10.55306313, 23.20677192, 18.28877746,\n",
       "       25.82563104, 24.42396226, 19.60215614, 22.87728073, 20.03546261,\n",
       "       26.23036941, 19.52167972, 20.4631198 , 15.01041173, 22.10086034,\n",
       "       16.05809617, 21.54568029, 13.39356231, 13.18938185, 18.34059482,\n",
       "       18.5363903 , 15.3621853 , 12.63193701, 10.78421078, 10.50463655,\n",
       "       15.4310058 , 19.23706884, 24.52486563, 19.49743401, 28.08101639,\n",
       "       10.70439609, 13.61321243, 16.77028986, 21.54992376, 27.05472316,\n",
       "       17.00403904, 15.35977365, 11.23778338, 26.42606955, 17.59332886,\n",
       "       21.43100391, 29.67110836, 10.03189141, 12.90900281, 25.58221988,\n",
       "       26.1025497 , 25.38494238, 20.73997782, 29.57713962, 17.9236912 ,\n",
       "       22.03887396, 11.26738009, 18.197149  , 24.45000175, 14.77477682,\n",
       "       28.87655178, 23.73566735, 15.75150766, 25.37997845, 11.66329544,\n",
       "       29.49548845, 10.98570518, 28.66911782, 15.05707755, 25.15648215,\n",
       "       10.00147399, 15.08480178, 24.98201213, 20.64672142, 12.29904299,\n",
       "       17.87259492, 17.5109871 , 21.36324488, 23.35954145, 26.81660485,\n",
       "       19.94462794, 17.84043435, 12.87953068, 26.0964593 , 24.26740811,\n",
       "       18.17354795, 20.3686462 , 23.30365689, 13.2961118 , 10.54395589,\n",
       "       16.35007398, 21.91170039, 19.73212183, 23.85109254, 26.39379611,\n",
       "       19.76884933, 12.68534047, 27.01256   , 21.49980655, 24.79874962,\n",
       "       24.09329307, 29.36423543, 15.90614645, 24.10613546, 17.31352666,\n",
       "       17.90821442, 14.61189273, 16.88020351, 28.96593503, 15.85141694,\n",
       "       14.91981212, 21.66275957, 15.16071913, 19.46771451, 26.68352513])"
      ]
     },
     "execution_count": 58,
     "metadata": {},
     "output_type": "execute_result"
    }
   ],
   "source": [
    "### GRADED\n",
    "\n",
    "### YOUR SOLUTION HERE\n",
    "ans4a = 1000\n",
    "ans4b = 10\n",
    "ans4c = 20\n",
    "ans4d = uniform.rvs(size=ans4a,loc=ans4b,scale=ans4c)\n",
    "\n",
    "ans4d"
   ]
  },
  {
   "cell_type": "code",
   "execution_count": null,
   "metadata": {
    "deletable": false,
    "editable": false,
    "nbgrader": {
     "checksum": "e96a1e0c5a5ab2b5c4c8eaa30c204da4",
     "grade": true,
     "grade_id": "cell-145ad0bcabecf5c8",
     "locked": true,
     "points": 3,
     "schema_version": 1,
     "solution": false
    }
   },
   "outputs": [],
   "source": []
  },
  {
   "cell_type": "markdown",
   "metadata": {
    "deletable": false,
    "editable": false,
    "nbgrader": {
     "checksum": "879585b0a15b2645d8da91750023821f",
     "grade": false,
     "grade_id": "cell-0a998ca3f2f4c759",
     "locked": true,
     "schema_version": 1,
     "solution": false
    }
   },
   "source": [
    "Below, we use [Seaborn](https://seaborn.pydata.org)  to plot the histogram of the distribution you just created. \n",
    "\n",
    "Seaborn is a more advanced visualization library than Matplotlib. It was designed specifically for data science and statistics, and it offers many more capabilities than Matplotlib for plotting data from these fields."
   ]
  },
  {
   "cell_type": "code",
   "execution_count": 66,
   "metadata": {
    "deletable": false,
    "editable": false,
    "nbgrader": {
     "checksum": "0d37c335ac2304d8aaa0ffdc379f9c10",
     "grade": false,
     "grade_id": "cell-04d934da59ce26d9",
     "locked": true,
     "schema_version": 1,
     "solution": false
    }
   },
   "outputs": [
    {
     "name": "stderr",
     "output_type": "stream",
     "text": [
      "C:\\Users\\andre\\AppData\\Local\\Temp\\ipykernel_38336\\143673388.py:6: UserWarning: \n",
      "\n",
      "`distplot` is a deprecated function and will be removed in seaborn v0.14.0.\n",
      "\n",
      "Please adapt your code to use either `displot` (a figure-level function with\n",
      "similar flexibility) or `histplot` (an axes-level function for histograms).\n",
      "\n",
      "For a guide to updating your code to use the new functions, please see\n",
      "https://gist.github.com/mwaskom/de44147ed2974457ad6372750bbe5751\n",
      "\n",
      "  ax = sns.distplot(ans4d,\n"
     ]
    },
    {
     "data": {
      "text/plain": [
       "[Text(0.5, 0, 'Uniform Distribution '), Text(0, 0.5, 'Frequency')]"
      ]
     },
     "execution_count": 66,
     "metadata": {},
     "output_type": "execute_result"
    },
    {
     "data": {
      "image/png": "[encoded data removed]",
      "text/plain": [
       "<Figure size 500x500 with 1 Axes>"
      ]
     },
     "metadata": {},
     "output_type": "display_data"
    }
   ],
   "source": [
    "# import seaborn\n",
    "import seaborn as sns\n",
    "# settings for seaborn plot sizes\n",
    "sns.set(rc={'figure.figsize':(5,5)})\n",
    "\n",
    "ax = sns.distplot(ans4d,\n",
    "                  bins=100,\n",
    "                  kde=True,\n",
    "                  color='skyblue',\n",
    "                  hist_kws={\"linewidth\": 15,'alpha':1})\n",
    "ax.set(xlabel='Uniform Distribution ', ylabel='Frequency')"
   ]
  },
  {
   "cell_type": "markdown",
   "metadata": {
    "deletable": false,
    "editable": false,
    "nbgrader": {
     "checksum": "308e2b6e37b68905b01f7a96c213c232",
     "grade": false,
     "grade_id": "cell-39ba5291291ae9c2",
     "locked": true,
     "schema_version": 1,
     "solution": false
    }
   },
   "source": [
    "## Continuous Distributions in Python \n",
    "\n",
    "A continuous random variable is one that takes an infinite number of possible values. Continuous random variables are usually measurements. Examples include height and weight, because these types of measurements can assume any value within a specified range.\n",
    "\n",
    "### The Normal Distribution\n",
    "\n",
    "The normal distribution, also known as Gaussian distribution, is arguably the most popular distribution in data science.\n",
    "\n",
    "A normal distribution has a bell-shaped  curve defined by its mean $\\mu$ and standard deviation $\\sigma$. The curve is symmetrical, centered about its mean, with its spread determined by its standard deviation.\n",
    "\n",
    "\n",
    "### Question 5\n",
    "*3 points*\n",
    "\n",
    "A normal sample can be generated by using the *function `norm.rvs()`* from the module *`scipy.stats()`*. Import the necessary *libraries* in the code cell below.\n",
    "\n",
    "Next, generate the sample data points by using the *function* above. Set the argument *`size = 10000`*, *`loc = 0`*, and *`scale = 1`*. Assign your points to the variable *`ans5a`*."
   ]
  },
  {
   "cell_type": "code",
   "execution_count": 67,
   "metadata": {
    "deletable": false,
    "nbgrader": {
     "checksum": "2cedbdf67574767e48cecbc67f8f74c0",
     "grade": false,
     "grade_id": "cell-5fc9cfc0ffc73c9e",
     "locked": false,
     "schema_version": 1,
     "solution": true
    }
   },
   "outputs": [
    {
     "data": {
      "text/plain": [
       "array([-0.40034882, -1.47232293,  0.91320192, ...,  0.62161942,\n",
       "        0.41905022,  2.22979586])"
      ]
     },
     "execution_count": 67,
     "metadata": {},
     "output_type": "execute_result"
    }
   ],
   "source": [
    "### GRADED\n",
    "from scipy.stats import norm\n",
    "\n",
    "### YOUR SOLUTION HERE\n",
    "ans5a = norm.rvs(size=10000,loc=0,scale=1)\n",
    "ans5a"
   ]
  },
  {
   "cell_type": "code",
   "execution_count": null,
   "metadata": {
    "deletable": false,
    "editable": false,
    "nbgrader": {
     "checksum": "12dd211c29e2d9687e778d24b8ae768d",
     "grade": true,
     "grade_id": "cell-c34f261403e54917",
     "locked": true,
     "points": 3,
     "schema_version": 1,
     "solution": false
    }
   },
   "outputs": [],
   "source": []
  },
  {
   "cell_type": "markdown",
   "metadata": {
    "deletable": false,
    "editable": false,
    "nbgrader": {
     "checksum": "8fa9dfdef5320d4610ac70d432d6885c",
     "grade": false,
     "grade_id": "cell-ce10508372410825",
     "locked": true,
     "schema_version": 1,
     "solution": false
    }
   },
   "source": [
    "Below, we use [Seaborn](https://seaborn.pydata.org)  to plot the histogram of the distribution you just created. "
   ]
  },
  {
   "cell_type": "code",
   "execution_count": 68,
   "metadata": {
    "deletable": false,
    "editable": false,
    "nbgrader": {
     "checksum": "380e0047b0ddeadeaf4371262a221424",
     "grade": false,
     "grade_id": "cell-f930bac6036b82f9",
     "locked": true,
     "schema_version": 1,
     "solution": false
    }
   },
   "outputs": [
    {
     "name": "stderr",
     "output_type": "stream",
     "text": [
      "C:\\Users\\andre\\AppData\\Local\\Temp\\ipykernel_38336\\3208787629.py:1: UserWarning: \n",
      "\n",
      "`distplot` is a deprecated function and will be removed in seaborn v0.14.0.\n",
      "\n",
      "Please adapt your code to use either `displot` (a figure-level function with\n",
      "similar flexibility) or `histplot` (an axes-level function for histograms).\n",
      "\n",
      "For a guide to updating your code to use the new functions, please see\n",
      "https://gist.github.com/mwaskom/de44147ed2974457ad6372750bbe5751\n",
      "\n",
      "  ax = sns.distplot(ans5a,\n"
     ]
    },
    {
     "data": {
      "text/plain": [
       "[Text(0.5, 0, 'Normal Distribution'), Text(0, 0.5, 'Frequency')]"
      ]
     },
     "execution_count": 68,
     "metadata": {},
     "output_type": "execute_result"
    },
    {
     "data": {
      "image/png": "[encoded data removed]",
      "text/plain": [
       "<Figure size 500x500 with 1 Axes>"
      ]
     },
     "metadata": {},
     "output_type": "display_data"
    }
   ],
   "source": [
    "ax = sns.distplot(ans5a,\n",
    "                  bins=100,\n",
    "                  kde=True,\n",
    "                  color='skyblue',\n",
    "                  hist_kws={\"linewidth\": 15,'alpha':1})\n",
    "ax.set(xlabel='Normal Distribution', ylabel='Frequency')"
   ]
  },
  {
   "cell_type": "markdown",
   "metadata": {
    "deletable": false,
    "editable": false,
    "nbgrader": {
     "checksum": "78aeff506bb10f90dcfe43a0c64073f4",
     "grade": false,
     "grade_id": "cell-caf6f001c2fa4934",
     "locked": true,
     "schema_version": 1,
     "solution": false
    }
   },
   "source": [
    "### Poisson Distribution\n",
    "\n",
    "A Poisson random variable is typically used to model the number of times an event happened in a time interval. For example, the number of times costumers visited a store in an interval can be thought of as a Poisson process.\n",
    "\n",
    "You can generate a Poisson distributed random variable using *`scipy.stats` module's `poisson.rvs()` method* which takes *`mu`* as a shape parameter. This parameter is the equivalent to the parameter $\\lambda$ in the equation on the Poisson distribution you saw in Mini-Lesson 2.5."
   ]
  },
  {
   "cell_type": "markdown",
   "metadata": {
    "deletable": false,
    "editable": false,
    "nbgrader": {
     "checksum": "1c5ff08c2f9c1d25c3dabee583f45a4c",
     "grade": false,
     "grade_id": "cell-91c40fe908171b77",
     "locked": true,
     "schema_version": 1,
     "solution": false
    }
   },
   "source": [
    "### Question 6\n",
    "*3 points*\n",
    "\n",
    "A Poisson sample can be generated by using the *function `poisson.rvs()`* from the module *`scipy.stats()`*. Import the necessary *libraries* in the code cell below.\n",
    "\n",
    "Next, generate the sample data points by using the *function* above. Set the argument *`mu = 3.54`* and *`size = 10000`*. Assign your points to the variable *`ans6a`*."
   ]
  },
  {
   "cell_type": "code",
   "execution_count": 70,
   "metadata": {
    "deletable": false,
    "nbgrader": {
     "checksum": "f926cfca6ebc478bd4e3572cb7619159",
     "grade": false,
     "grade_id": "cell-cbbb87db0438c3c2",
     "locked": false,
     "schema_version": 1,
     "solution": true
    }
   },
   "outputs": [
    {
     "data": {
      "text/plain": [
       "array([1, 2, 1, ..., 1, 3, 3], dtype=int64)"
      ]
     },
     "execution_count": 70,
     "metadata": {},
     "output_type": "execute_result"
    }
   ],
   "source": [
    "### GRADED\n",
    "\n",
    "\n",
    "### YOUR SOLUTION HERE\n",
    "from scipy.stats import poisson\n",
    "ans6a = poisson.rvs(mu=3.54, size=10000)\n",
    "ans6a"
   ]
  },
  {
   "cell_type": "code",
   "execution_count": null,
   "metadata": {
    "deletable": false,
    "editable": false,
    "nbgrader": {
     "checksum": "b1d35fe88b440a037ff9f0b25d0c1998",
     "grade": true,
     "grade_id": "cell-53a7da2bbba725e8",
     "locked": true,
     "points": 3,
     "schema_version": 1,
     "solution": false
    }
   },
   "outputs": [],
   "source": []
  },
  {
   "cell_type": "markdown",
   "metadata": {
    "deletable": false,
    "editable": false,
    "nbgrader": {
     "checksum": "8e8342ee38a750140129c00a702f7d43",
     "grade": false,
     "grade_id": "cell-b73fc48d4018676b",
     "locked": true,
     "schema_version": 1,
     "solution": false
    }
   },
   "source": [
    "Below, we use [Seaborn](https://seaborn.pydata.org)  to plot the histogram of the distribution you just created. "
   ]
  },
  {
   "cell_type": "code",
   "execution_count": 71,
   "metadata": {
    "deletable": false,
    "editable": false,
    "nbgrader": {
     "checksum": "0cfb64c31a19c6c7ac769b676d29f59f",
     "grade": false,
     "grade_id": "cell-4d7128255ca2da61",
     "locked": true,
     "schema_version": 1,
     "solution": false
    }
   },
   "outputs": [
    {
     "name": "stderr",
     "output_type": "stream",
     "text": [
      "C:\\Users\\andre\\AppData\\Local\\Temp\\ipykernel_38336\\3931475407.py:1: UserWarning: \n",
      "\n",
      "`distplot` is a deprecated function and will be removed in seaborn v0.14.0.\n",
      "\n",
      "Please adapt your code to use either `displot` (a figure-level function with\n",
      "similar flexibility) or `histplot` (an axes-level function for histograms).\n",
      "\n",
      "For a guide to updating your code to use the new functions, please see\n",
      "https://gist.github.com/mwaskom/de44147ed2974457ad6372750bbe5751\n",
      "\n",
      "  ax = sns.distplot(ans6a,\n"
     ]
    },
    {
     "data": {
      "text/plain": [
       "[Text(0.5, 0, 'Poisson Distribution'), Text(0, 0.5, 'Frequency')]"
      ]
     },
     "execution_count": 71,
     "metadata": {},
     "output_type": "execute_result"
    },
    {
     "data": {
      "image/png": "[encoded data removed]",
      "text/plain": [
       "<Figure size 500x500 with 1 Axes>"
      ]
     },
     "metadata": {},
     "output_type": "display_data"
    }
   ],
   "source": [
    "ax = sns.distplot(ans6a,\n",
    "                  bins=30,\n",
    "                  kde = False,\n",
    "                  color='skyblue',\n",
    "                  hist_kws={\"linewidth\": 15,'alpha':1})\n",
    "ax.set(xlabel='Poisson Distribution', ylabel='Frequency')"
   ]
  },
  {
   "cell_type": "markdown",
   "metadata": {
    "deletable": false,
    "editable": false,
    "nbgrader": {
     "checksum": "25b8ab098a24bfdec50e25cb8821e8e7",
     "grade": false,
     "grade_id": "cell-b505a3f6e4ff6a5a",
     "locked": true,
     "schema_version": 1,
     "solution": false
    }
   },
   "source": [
    "### Exponential Distribution Function\n",
    "\n",
    "The exponential distribution describes the time between events in a Poisson process.\n",
    "\n",
    "You can generate an exponentially distributed random variable using *`scipy.stats` module's `expon.rvs()` method,* which takes *`scale`* as a shape parameter. This parameter is the equivalent to the parameter $1/\\lambda$ in the equation on the Poisson distribution you saw in Mini-Lesson 2.5.\n",
    "\n",
    "The *`loc`* argument shift distribution and *`size`* decides the number of random samples in the distribution."
   ]
  },
  {
   "cell_type": "markdown",
   "metadata": {
    "deletable": false,
    "editable": false,
    "nbgrader": {
     "checksum": "53466c3b04ee926bcf0b2ab4b4647e50",
     "grade": false,
     "grade_id": "cell-df20a5e9f9eb2f53",
     "locked": true,
     "schema_version": 1,
     "solution": false
    }
   },
   "source": [
    "### Question 7\n",
    "*3 points*\n",
    "\n",
    "An exponential sample can be generated by using the *function `expon.rvs()`* from the module *`scipy.stats()`*. Import the necessary *libraries* in the code cell below.\n",
    "\n",
    "Next, generate the sample data points by using the *function* above. Set the argument *`scale = 4.67`*, *`loc = 1`*, and *`size = 10000`*. Assign your points to the variable *`ans7a`*."
   ]
  },
  {
   "cell_type": "code",
   "execution_count": 72,
   "metadata": {
    "deletable": false,
    "nbgrader": {
     "checksum": "7fd803f48755e65bc955bb5160ada1f1",
     "grade": false,
     "grade_id": "cell-18c08985d8663e5c",
     "locked": false,
     "schema_version": 1,
     "solution": true
    }
   },
   "outputs": [
    {
     "data": {
      "text/plain": [
       "array([1.43552289, 2.96680629, 2.17506513, ..., 3.86206224, 3.06864712,\n",
       "       6.21418426])"
      ]
     },
     "execution_count": 72,
     "metadata": {},
     "output_type": "execute_result"
    }
   ],
   "source": [
    "### GRADED\n",
    "\n",
    "### YOUR SOLUTION HERE\n",
    "from scipy.stats import expon\n",
    "ans7a = expon.rvs(scale=4.67,loc=1,size=10000)\n",
    "ans7a"
   ]
  },
  {
   "cell_type": "code",
   "execution_count": 73,
   "metadata": {
    "deletable": false,
    "editable": false,
    "nbgrader": {
     "checksum": "d3183d4abaf057272e4568119cf63d97",
     "grade": true,
     "grade_id": "cell-fc3fc076593a381e",
     "locked": true,
     "points": 3,
     "schema_version": 1,
     "solution": false
    }
   },
   "outputs": [
    {
     "name": "stderr",
     "output_type": "stream",
     "text": [
      "C:\\Users\\andre\\AppData\\Local\\Temp\\ipykernel_38336\\3121716387.py:1: UserWarning: \n",
      "\n",
      "`distplot` is a deprecated function and will be removed in seaborn v0.14.0.\n",
      "\n",
      "Please adapt your code to use either `displot` (a figure-level function with\n",
      "similar flexibility) or `histplot` (an axes-level function for histograms).\n",
      "\n",
      "For a guide to updating your code to use the new functions, please see\n",
      "https://gist.github.com/mwaskom/de44147ed2974457ad6372750bbe5751\n",
      "\n",
      "  ax = sns.distplot(\n"
     ]
    },
    {
     "data": {
      "text/plain": [
       "[Text(0.5, 0, 'Poisson Distribution'), Text(0, 0.5, 'Frequency')]"
      ]
     },
     "execution_count": 73,
     "metadata": {},
     "output_type": "execute_result"
    },
    {
     "data": {
      "image/png": "[encoded data removed]",
      "text/plain": [
       "<Figure size 500x500 with 1 Axes>"
      ]
     },
     "metadata": {},
     "output_type": "display_data"
    }
   ],
   "source": [
    "ax = sns.distplot(\n",
    "    ans7a, bins=30, kde=False, color=\"skyblue\", hist_kws={\"linewidth\": 15, \"alpha\": 1}\n",
    ")\n",
    "ax.set(xlabel=\"Poisson Distribution\", ylabel=\"Frequency\")"
   ]
  },
  {
   "cell_type": "code",
   "execution_count": null,
   "metadata": {},
   "outputs": [],
   "source": []
  }
 ],
 "metadata": {
  "kernelspec": {
   "display_name": "Python 3",
   "language": "python",
   "name": "python3"
  },
  "language_info": {
   "codemirror_mode": {
    "name": "ipython",
    "version": 3
   },
   "file_extension": ".py",
   "mimetype": "text/x-python",
   "name": "python",
   "nbconvert_exporter": "python",
   "pygments_lexer": "ipython3",
   "version": "3.12.2"
  }
 },
 "nbformat": 4,
 "nbformat_minor": 4
}
