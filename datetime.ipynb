{
 "cells": [
  {
   "cell_type": "code",
   "execution_count": 9,
   "metadata": {},
   "outputs": [
    {
     "name": "stdout",
     "output_type": "stream",
     "text": [
      "Current Date and Time: 2024-04-04 19:56:58.879808\n",
      "Current Date: 2024-04-04\n",
      "Current Time: 19:56:58.879808\n",
      "Formatted Date: 04 day, 00 month, 2024 year\n",
      "Parsed Date: 2022-01-01\n",
      "type <class 'datetime.date'>\n",
      "Date Difference: 364\n",
      "New Date: 2024-04-11\n",
      "<class 'datetime.timedelta'>\n"
     ]
    }
   ],
   "source": [
    "import datetime\n",
    "\n",
    "# Get the current date and time\n",
    "current_datetime = datetime.datetime.now()\n",
    "print(\"Current Date and Time:\", current_datetime)\n",
    "\n",
    "# Get the current date\n",
    "current_date = datetime.date.today()\n",
    "print(\"Current Date:\", current_date)\n",
    "\n",
    "# Get the current time\n",
    "current_time = datetime.datetime.now().time()\n",
    "print(\"Current Time:\", current_time)\n",
    "\n",
    "# Format a date as a string\n",
    "formatted_date = current_date.strftime(\"%d day, %M month, %Y year\")\n",
    "print(\"Formatted Date:\", formatted_date)\n",
    "\n",
    "# Parse a string into a date\n",
    "date_string = \"2022-01-01\"\n",
    "parsed_date = datetime.datetime.strptime(date_string, \"%Y-%m-%d\").date()\n",
    "print(\"Parsed Date:\", parsed_date)\n",
    "\n",
    "# Calculate the difference between two dates\n",
    "date1 = datetime.date(2022, 1, 1)\n",
    "print('type',type(date1))\n",
    "date2 = datetime.date(2022, 12, 31)\n",
    "date_diff = date2 - date1\n",
    "print(\"Date Difference:\", date_diff.days)\n",
    "\n",
    "# Add or subtract days from a date\n",
    "new_date = current_date + datetime.timedelta(days=7)\n",
    "print(\"New Date:\", new_date)\n",
    "\n",
    "print(type(datetime.timedelta(days=7)))"
   ]
  }
 ],
 "metadata": {
  "kernelspec": {
   "display_name": "Python 3",
   "language": "python",
   "name": "python3"
  },
  "language_info": {
   "codemirror_mode": {
    "name": "ipython",
    "version": 3
   },
   "file_extension": ".py",
   "mimetype": "text/x-python",
   "name": "python",
   "nbconvert_exporter": "python",
   "pygments_lexer": "ipython3",
   "version": "3.12.2"
  }
 },
 "nbformat": 4,
 "nbformat_minor": 2
}
